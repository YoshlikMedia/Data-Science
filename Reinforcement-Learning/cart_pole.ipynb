{
 "cells": [
  {
   "cell_type": "code",
   "execution_count": 7,
   "metadata": {},
   "outputs": [],
   "source": [
    "import gym \n",
    "import random\n",
    "import sys"
   ]
  },
  {
   "cell_type": "code",
   "execution_count": 8,
   "metadata": {},
   "outputs": [],
   "source": [
    "env = gym.make('CartPole-v1')\n",
    "states = env.observation_space.shape[0]\n",
    "actions = env.action_space.n"
   ]
  },
  {
   "cell_type": "code",
   "execution_count": 9,
   "metadata": {},
   "outputs": [
    {
     "data": {
      "text/plain": [
       "Box([-4.8000002e+00 -3.4028235e+38 -4.1887903e-01 -3.4028235e+38], [4.8000002e+00 3.4028235e+38 4.1887903e-01 3.4028235e+38], (4,), float32)"
      ]
     },
     "execution_count": 9,
     "metadata": {},
     "output_type": "execute_result"
    }
   ],
   "source": [
    "env.observation_space"
   ]
  },
  {
   "cell_type": "code",
   "execution_count": 10,
   "metadata": {},
   "outputs": [
    {
     "name": "stdout",
     "output_type": "stream",
     "text": [
      "Episode:1 Score:13.0\n",
      "Episode:2 Score:12.0\n",
      "Episode:3 Score:24.0\n",
      "Episode:4 Score:21.0\n",
      "Episode:5 Score:16.0\n",
      "Episode:6 Score:17.0\n",
      "Episode:7 Score:33.0\n",
      "Episode:8 Score:10.0\n",
      "Episode:9 Score:18.0\n",
      "Episode:10 Score:40.0\n",
      "Episode:11 Score:22.0\n",
      "Episode:12 Score:18.0\n",
      "Episode:13 Score:15.0\n",
      "Episode:14 Score:25.0\n",
      "Episode:15 Score:11.0\n",
      "Episode:16 Score:28.0\n",
      "Episode:17 Score:25.0\n",
      "Episode:18 Score:28.0\n",
      "Episode:19 Score:16.0\n",
      "Episode:20 Score:19.0\n",
      "Episode:21 Score:12.0\n",
      "Episode:22 Score:9.0\n",
      "Episode:23 Score:16.0\n",
      "Episode:24 Score:12.0\n",
      "Episode:25 Score:35.0\n",
      "Episode:26 Score:18.0\n",
      "Episode:27 Score:39.0\n",
      "Episode:28 Score:37.0\n",
      "Episode:29 Score:16.0\n",
      "Episode:30 Score:14.0\n",
      "Episode:31 Score:11.0\n",
      "Episode:32 Score:31.0\n",
      "Episode:33 Score:50.0\n",
      "Episode:34 Score:23.0\n",
      "Episode:35 Score:35.0\n",
      "Episode:36 Score:19.0\n",
      "Episode:37 Score:27.0\n",
      "Episode:38 Score:13.0\n",
      "Episode:39 Score:18.0\n",
      "Episode:40 Score:41.0\n",
      "Episode:41 Score:12.0\n",
      "Episode:42 Score:22.0\n",
      "Episode:43 Score:21.0\n",
      "Episode:44 Score:32.0\n",
      "Episode:45 Score:16.0\n",
      "Episode:46 Score:44.0\n",
      "Episode:47 Score:27.0\n",
      "Episode:48 Score:18.0\n",
      "Episode:49 Score:17.0\n",
      "Episode:50 Score:19.0\n",
      "Episode:51 Score:22.0\n",
      "Episode:52 Score:26.0\n",
      "Episode:53 Score:14.0\n",
      "Episode:54 Score:19.0\n",
      "Episode:55 Score:30.0\n",
      "Episode:56 Score:32.0\n",
      "Episode:57 Score:12.0\n",
      "Episode:58 Score:12.0\n",
      "Episode:59 Score:15.0\n",
      "Episode:60 Score:19.0\n",
      "Episode:61 Score:13.0\n",
      "Episode:62 Score:12.0\n",
      "Episode:63 Score:12.0\n",
      "Episode:64 Score:16.0\n",
      "Episode:65 Score:10.0\n",
      "Episode:66 Score:11.0\n",
      "Episode:67 Score:12.0\n",
      "Episode:68 Score:13.0\n",
      "Episode:69 Score:11.0\n",
      "Episode:70 Score:13.0\n",
      "Episode:71 Score:45.0\n",
      "Episode:72 Score:23.0\n",
      "Episode:73 Score:44.0\n",
      "Episode:74 Score:19.0\n",
      "Episode:75 Score:12.0\n",
      "Episode:76 Score:24.0\n",
      "Episode:77 Score:18.0\n",
      "Episode:78 Score:20.0\n",
      "Episode:79 Score:11.0\n",
      "Episode:80 Score:30.0\n",
      "Episode:81 Score:16.0\n",
      "Episode:82 Score:13.0\n",
      "Episode:83 Score:33.0\n",
      "Episode:84 Score:15.0\n",
      "Episode:85 Score:23.0\n",
      "Episode:86 Score:17.0\n",
      "Episode:87 Score:15.0\n",
      "Episode:88 Score:42.0\n",
      "Episode:89 Score:16.0\n",
      "Episode:90 Score:39.0\n",
      "Episode:91 Score:18.0\n",
      "Episode:92 Score:9.0\n",
      "Episode:93 Score:11.0\n",
      "Episode:94 Score:26.0\n",
      "Episode:95 Score:27.0\n",
      "Episode:96 Score:39.0\n",
      "Episode:97 Score:18.0\n",
      "Episode:98 Score:20.0\n",
      "Episode:99 Score:16.0\n",
      "Episode:100 Score:15.0\n",
      "Episode:101 Score:24.0\n",
      "Episode:102 Score:20.0\n",
      "Episode:103 Score:9.0\n",
      "Episode:104 Score:63.0\n",
      "Episode:105 Score:50.0\n",
      "Episode:106 Score:15.0\n",
      "Episode:107 Score:35.0\n",
      "Episode:108 Score:30.0\n",
      "Episode:109 Score:23.0\n",
      "Episode:110 Score:39.0\n",
      "Episode:111 Score:23.0\n",
      "Episode:112 Score:38.0\n",
      "Episode:113 Score:12.0\n",
      "Episode:114 Score:25.0\n",
      "Episode:115 Score:9.0\n",
      "Episode:116 Score:24.0\n",
      "Episode:117 Score:18.0\n",
      "Episode:118 Score:16.0\n",
      "Episode:119 Score:17.0\n",
      "Episode:120 Score:11.0\n",
      "Episode:121 Score:20.0\n",
      "Episode:122 Score:30.0\n",
      "Episode:123 Score:25.0\n",
      "Episode:124 Score:24.0\n",
      "Episode:125 Score:35.0\n",
      "Episode:126 Score:28.0\n",
      "Episode:127 Score:15.0\n",
      "Episode:128 Score:16.0\n",
      "Episode:129 Score:16.0\n",
      "Episode:130 Score:23.0\n",
      "Episode:131 Score:48.0\n",
      "Episode:132 Score:37.0\n",
      "Episode:133 Score:19.0\n",
      "Episode:134 Score:12.0\n",
      "Episode:135 Score:16.0\n",
      "Episode:136 Score:35.0\n",
      "Episode:137 Score:15.0\n"
     ]
    },
    {
     "ename": "KeyboardInterrupt",
     "evalue": "",
     "output_type": "error",
     "traceback": [
      "\u001b[0;31m---------------------------------------------------------------------------\u001b[0m",
      "\u001b[0;31mKeyboardInterrupt\u001b[0m                         Traceback (most recent call last)",
      "\u001b[1;32m/Users/yoshlikmedia/Projects/Data-Science/ReinforcementLearningPractice/cart_pole.ipynb Cell 2'\u001b[0m in \u001b[0;36m<cell line: 2>\u001b[0;34m()\u001b[0m\n\u001b[1;32m      <a href='vscode-notebook-cell:/Users/yoshlikmedia/Projects/Data-Science/ReinforcementLearningPractice/cart_pole.ipynb#ch0000001?line=4'>5</a>\u001b[0m score \u001b[39m=\u001b[39m \u001b[39m0\u001b[39m \n\u001b[1;32m      <a href='vscode-notebook-cell:/Users/yoshlikmedia/Projects/Data-Science/ReinforcementLearningPractice/cart_pole.ipynb#ch0000001?line=6'>7</a>\u001b[0m \u001b[39mwhile\u001b[39;00m \u001b[39mnot\u001b[39;00m done:\n\u001b[0;32m----> <a href='vscode-notebook-cell:/Users/yoshlikmedia/Projects/Data-Science/ReinforcementLearningPractice/cart_pole.ipynb#ch0000001?line=7'>8</a>\u001b[0m     env\u001b[39m.\u001b[39;49mrender()\n\u001b[1;32m      <a href='vscode-notebook-cell:/Users/yoshlikmedia/Projects/Data-Science/ReinforcementLearningPractice/cart_pole.ipynb#ch0000001?line=8'>9</a>\u001b[0m     action \u001b[39m=\u001b[39m random\u001b[39m.\u001b[39mchoice([\u001b[39m0\u001b[39m,\u001b[39m1\u001b[39m])\n\u001b[1;32m     <a href='vscode-notebook-cell:/Users/yoshlikmedia/Projects/Data-Science/ReinforcementLearningPractice/cart_pole.ipynb#ch0000001?line=9'>10</a>\u001b[0m     n_state, reward, done, info \u001b[39m=\u001b[39m env\u001b[39m.\u001b[39mstep(action)\n",
      "File \u001b[0;32m~/miniconda3/envs/rl/lib/python3.9/site-packages/gym/core.py:286\u001b[0m, in \u001b[0;36mWrapper.render\u001b[0;34m(self, mode, **kwargs)\u001b[0m\n\u001b[1;32m    <a href='file:///Users/yoshlikmedia/miniconda3/envs/rl/lib/python3.9/site-packages/gym/core.py?line=284'>285</a>\u001b[0m \u001b[39mdef\u001b[39;00m \u001b[39mrender\u001b[39m(\u001b[39mself\u001b[39m, mode\u001b[39m=\u001b[39m\u001b[39m\"\u001b[39m\u001b[39mhuman\u001b[39m\u001b[39m\"\u001b[39m, \u001b[39m*\u001b[39m\u001b[39m*\u001b[39mkwargs):\n\u001b[0;32m--> <a href='file:///Users/yoshlikmedia/miniconda3/envs/rl/lib/python3.9/site-packages/gym/core.py?line=285'>286</a>\u001b[0m     \u001b[39mreturn\u001b[39;00m \u001b[39mself\u001b[39;49m\u001b[39m.\u001b[39;49menv\u001b[39m.\u001b[39;49mrender(mode, \u001b[39m*\u001b[39;49m\u001b[39m*\u001b[39;49mkwargs)\n",
      "File \u001b[0;32m~/miniconda3/envs/rl/lib/python3.9/site-packages/gym/core.py:286\u001b[0m, in \u001b[0;36mWrapper.render\u001b[0;34m(self, mode, **kwargs)\u001b[0m\n\u001b[1;32m    <a href='file:///Users/yoshlikmedia/miniconda3/envs/rl/lib/python3.9/site-packages/gym/core.py?line=284'>285</a>\u001b[0m \u001b[39mdef\u001b[39;00m \u001b[39mrender\u001b[39m(\u001b[39mself\u001b[39m, mode\u001b[39m=\u001b[39m\u001b[39m\"\u001b[39m\u001b[39mhuman\u001b[39m\u001b[39m\"\u001b[39m, \u001b[39m*\u001b[39m\u001b[39m*\u001b[39mkwargs):\n\u001b[0;32m--> <a href='file:///Users/yoshlikmedia/miniconda3/envs/rl/lib/python3.9/site-packages/gym/core.py?line=285'>286</a>\u001b[0m     \u001b[39mreturn\u001b[39;00m \u001b[39mself\u001b[39;49m\u001b[39m.\u001b[39;49menv\u001b[39m.\u001b[39;49mrender(mode, \u001b[39m*\u001b[39;49m\u001b[39m*\u001b[39;49mkwargs)\n",
      "File \u001b[0;32m~/miniconda3/envs/rl/lib/python3.9/site-packages/gym/envs/classic_control/cartpole.py:260\u001b[0m, in \u001b[0;36mCartPoleEnv.render\u001b[0;34m(self, mode)\u001b[0m\n\u001b[1;32m    <a href='file:///Users/yoshlikmedia/miniconda3/envs/rl/lib/python3.9/site-packages/gym/envs/classic_control/cartpole.py?line=257'>258</a>\u001b[0m \u001b[39mif\u001b[39;00m mode \u001b[39m==\u001b[39m \u001b[39m\"\u001b[39m\u001b[39mhuman\u001b[39m\u001b[39m\"\u001b[39m:\n\u001b[1;32m    <a href='file:///Users/yoshlikmedia/miniconda3/envs/rl/lib/python3.9/site-packages/gym/envs/classic_control/cartpole.py?line=258'>259</a>\u001b[0m     pygame\u001b[39m.\u001b[39mevent\u001b[39m.\u001b[39mpump()\n\u001b[0;32m--> <a href='file:///Users/yoshlikmedia/miniconda3/envs/rl/lib/python3.9/site-packages/gym/envs/classic_control/cartpole.py?line=259'>260</a>\u001b[0m     \u001b[39mself\u001b[39;49m\u001b[39m.\u001b[39;49mclock\u001b[39m.\u001b[39;49mtick(\u001b[39mself\u001b[39;49m\u001b[39m.\u001b[39;49mmetadata[\u001b[39m\"\u001b[39;49m\u001b[39mrender_fps\u001b[39;49m\u001b[39m\"\u001b[39;49m])\n\u001b[1;32m    <a href='file:///Users/yoshlikmedia/miniconda3/envs/rl/lib/python3.9/site-packages/gym/envs/classic_control/cartpole.py?line=260'>261</a>\u001b[0m     pygame\u001b[39m.\u001b[39mdisplay\u001b[39m.\u001b[39mflip()\n\u001b[1;32m    <a href='file:///Users/yoshlikmedia/miniconda3/envs/rl/lib/python3.9/site-packages/gym/envs/classic_control/cartpole.py?line=262'>263</a>\u001b[0m \u001b[39mif\u001b[39;00m mode \u001b[39m==\u001b[39m \u001b[39m\"\u001b[39m\u001b[39mrgb_array\u001b[39m\u001b[39m\"\u001b[39m:\n",
      "\u001b[0;31mKeyboardInterrupt\u001b[0m: "
     ]
    }
   ],
   "source": [
    "episodes = 1000\n",
    "for episode in range(1, episodes+1):\n",
    "    state = env.reset()\n",
    "    done = False\n",
    "    score = 0 \n",
    "    \n",
    "    while not done:\n",
    "        env.render()\n",
    "        action = random.choice([0,1])\n",
    "        n_state, reward, done, info = env.step(action)\n",
    "        score+=reward\n",
    "\n",
    "    print('Episode:{} Score:{}'.format(episode, score))\n",
    "env.close()"
   ]
  },
  {
   "cell_type": "code",
   "execution_count": null,
   "metadata": {},
   "outputs": [],
   "source": []
  }
 ],
 "metadata": {
  "kernelspec": {
   "display_name": "Python 3 (ipykernel)",
   "language": "python",
   "name": "python3"
  },
  "language_info": {
   "codemirror_mode": {
    "name": "ipython",
    "version": 3
   },
   "file_extension": ".py",
   "mimetype": "text/x-python",
   "name": "python",
   "nbconvert_exporter": "python",
   "pygments_lexer": "ipython3",
   "version": "3.9.12"
  },
  "vscode": {
   "interpreter": {
    "hash": "45cea8f3284d9b5197bcabb13675cca316acb72e9ad05de2e693582115b686f4"
   }
  }
 },
 "nbformat": 4,
 "nbformat_minor": 4
}
