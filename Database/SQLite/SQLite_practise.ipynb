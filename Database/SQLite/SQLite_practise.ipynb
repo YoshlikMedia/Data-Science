{
 "cells": [
  {
   "cell_type": "code",
   "execution_count": 1,
   "metadata": {
    "collapsed": true
   },
   "outputs": [],
   "source": [
    "import pandas as pd\n",
    "import sqlite3 as sql\n",
    "from pprint import pprint as print"
   ]
  },
  {
   "cell_type": "code",
   "execution_count": 2,
   "outputs": [
    {
     "name": "stdout",
     "output_type": "stream",
     "text": [
      "--2022-03-27 22:34:28--  https://www.sqlitetutorial.net/wp-content/uploads/2018/03/chinook.zip\r\n",
      "Resolving www.sqlitetutorial.net (www.sqlitetutorial.net)... 151.139.128.11\r\n",
      "Connecting to www.sqlitetutorial.net (www.sqlitetutorial.net)|151.139.128.11|:443... connected.\r\n",
      "HTTP request sent, awaiting response... 200 OK\r\n",
      "Length: 305596 (298K) [application/zip]\r\n",
      "Saving to: ‘chinook.zip’\r\n",
      "\r\n",
      "chinook.zip         100%[===================>] 298.43K  1.02MB/s    in 0.3s    \r\n",
      "\r\n",
      "2022-03-27 22:34:29 (1.02 MB/s) - ‘chinook.zip’ saved [305596/305596]\r\n",
      "\r\n"
     ]
    }
   ],
   "source": [
    "!wget https://www.sqlitetutorial.net/wp-content/uploads/2018/03/chinook.zip"
   ],
   "metadata": {
    "collapsed": false,
    "pycharm": {
     "name": "#%%\n"
    }
   }
  },
  {
   "cell_type": "code",
   "execution_count": 3,
   "outputs": [
    {
     "name": "stdout",
     "output_type": "stream",
     "text": [
      "Archive:  chinook.zip\r\n",
      "  inflating: chinook.db              \r\n"
     ]
    }
   ],
   "source": [
    "!unzip chinook.zip"
   ],
   "metadata": {
    "collapsed": false,
    "pycharm": {
     "name": "#%%\n"
    }
   }
  },
  {
   "cell_type": "code",
   "execution_count": 10,
   "outputs": [],
   "source": [
    "db = sql.connect('chinook.db')\n",
    "cursor = db.cursor()"
   ],
   "metadata": {
    "collapsed": false,
    "pycharm": {
     "name": "#%%\n"
    }
   }
  },
  {
   "cell_type": "code",
   "execution_count": 15,
   "outputs": [
    {
     "data": {
      "text/plain": "[('albums',),\n ('sqlite_sequence',),\n ('artists',),\n ('customers',),\n ('employees',),\n ('genres',),\n ('invoices',),\n ('invoice_items',),\n ('media_types',),\n ('playlists',),\n ('playlist_track',),\n ('tracks',),\n ('sqlite_stat1',)]"
     },
     "execution_count": 15,
     "metadata": {},
     "output_type": "execute_result"
    }
   ],
   "source": [
    "cursor.execute(\"SELECT name FROM sqlite_master WHERE type='table';\")\n",
    "cursor.fetchall()"
   ],
   "metadata": {
    "collapsed": false,
    "pycharm": {
     "name": "#%%\n"
    }
   }
  },
  {
   "cell_type": "code",
   "execution_count": 21,
   "outputs": [
    {
     "data": {
      "text/plain": "[(59,)]"
     },
     "execution_count": 21,
     "metadata": {},
     "output_type": "execute_result"
    }
   ],
   "source": [
    "cursor.execute(\"SELECT COUNT (*) FROM customers;\")\n",
    "cursor.fetchall()"
   ],
   "metadata": {
    "collapsed": false,
    "pycharm": {
     "name": "#%%\n"
    }
   }
  },
  {
   "cell_type": "code",
   "execution_count": 23,
   "outputs": [
    {
     "data": {
      "text/plain": "[(1,\n  'Adams',\n  'Andrew',\n  'General Manager',\n  None,\n  '1962-02-18 00:00:00',\n  '2002-08-14 00:00:00',\n  '11120 Jasper Ave NW',\n  'Edmonton',\n  'AB',\n  'Canada',\n  'T5K 2N1',\n  '+1 (780) 428-9482',\n  '+1 (780) 428-3457',\n  'andrew@chinookcorp.com'),\n (2,\n  'Edwards',\n  'Nancy',\n  'Sales Manager',\n  1,\n  '1958-12-08 00:00:00',\n  '2002-05-01 00:00:00',\n  '825 8 Ave SW',\n  'Calgary',\n  'AB',\n  'Canada',\n  'T2P 2T3',\n  '+1 (403) 262-3443',\n  '+1 (403) 262-3322',\n  'nancy@chinookcorp.com'),\n (3,\n  'Peacock',\n  'Jane',\n  'Sales Support Agent',\n  2,\n  '1973-08-29 00:00:00',\n  '2002-04-01 00:00:00',\n  '1111 6 Ave SW',\n  'Calgary',\n  'AB',\n  'Canada',\n  'T2P 5M5',\n  '+1 (403) 262-3443',\n  '+1 (403) 262-6712',\n  'jane@chinookcorp.com'),\n (4,\n  'Park',\n  'Margaret',\n  'Sales Support Agent',\n  2,\n  '1947-09-19 00:00:00',\n  '2003-05-03 00:00:00',\n  '683 10 Street SW',\n  'Calgary',\n  'AB',\n  'Canada',\n  'T2P 5G3',\n  '+1 (403) 263-4423',\n  '+1 (403) 263-4289',\n  'margaret@chinookcorp.com'),\n (5,\n  'Johnson',\n  'Steve',\n  'Sales Support Agent',\n  2,\n  '1965-03-03 00:00:00',\n  '2003-10-17 00:00:00',\n  '7727B 41 Ave',\n  'Calgary',\n  'AB',\n  'Canada',\n  'T3B 1Y7',\n  '1 (780) 836-9987',\n  '1 (780) 836-9543',\n  'steve@chinookcorp.com'),\n (6,\n  'Mitchell',\n  'Michael',\n  'IT Manager',\n  1,\n  '1973-07-01 00:00:00',\n  '2003-10-17 00:00:00',\n  '5827 Bowness Road NW',\n  'Calgary',\n  'AB',\n  'Canada',\n  'T3B 0C5',\n  '+1 (403) 246-9887',\n  '+1 (403) 246-9899',\n  'michael@chinookcorp.com'),\n (7,\n  'King',\n  'Robert',\n  'IT Staff',\n  6,\n  '1970-05-29 00:00:00',\n  '2004-01-02 00:00:00',\n  '590 Columbia Boulevard West',\n  'Lethbridge',\n  'AB',\n  'Canada',\n  'T1K 5N8',\n  '+1 (403) 456-9986',\n  '+1 (403) 456-8485',\n  'robert@chinookcorp.com'),\n (8,\n  'Callahan',\n  'Laura',\n  'IT Staff',\n  6,\n  '1968-01-09 00:00:00',\n  '2004-03-04 00:00:00',\n  '923 7 ST NW',\n  'Lethbridge',\n  'AB',\n  'Canada',\n  'T1H 1Y8',\n  '+1 (403) 467-3351',\n  '+1 (403) 467-8772',\n  'laura@chinookcorp.com')]"
     },
     "execution_count": 23,
     "metadata": {},
     "output_type": "execute_result"
    }
   ],
   "source": [
    "cursor.execute(\"SELECT * FROM employees;\")\n",
    "cursor.fetchall()"
   ],
   "metadata": {
    "collapsed": false,
    "pycharm": {
     "name": "#%%\n"
    }
   }
  },
  {
   "cell_type": "code",
   "execution_count": 24,
   "outputs": [
    {
     "data": {
      "text/plain": "[(0, 'EmployeeId', 'INTEGER', 1, None, 1),\n (1, 'LastName', 'NVARCHAR(20)', 1, None, 0),\n (2, 'FirstName', 'NVARCHAR(20)', 1, None, 0),\n (3, 'Title', 'NVARCHAR(30)', 0, None, 0),\n (4, 'ReportsTo', 'INTEGER', 0, None, 0),\n (5, 'BirthDate', 'DATETIME', 0, None, 0),\n (6, 'HireDate', 'DATETIME', 0, None, 0),\n (7, 'Address', 'NVARCHAR(70)', 0, None, 0),\n (8, 'City', 'NVARCHAR(40)', 0, None, 0),\n (9, 'State', 'NVARCHAR(40)', 0, None, 0),\n (10, 'Country', 'NVARCHAR(40)', 0, None, 0),\n (11, 'PostalCode', 'NVARCHAR(10)', 0, None, 0),\n (12, 'Phone', 'NVARCHAR(24)', 0, None, 0),\n (13, 'Fax', 'NVARCHAR(24)', 0, None, 0),\n (14, 'Email', 'NVARCHAR(60)', 0, None, 0)]"
     },
     "execution_count": 24,
     "metadata": {},
     "output_type": "execute_result"
    }
   ],
   "source": [
    "cursor.execute(\"PRAGMA table_info(employees);\")\n",
    "cursor.fetchall()"
   ],
   "metadata": {
    "collapsed": false,
    "pycharm": {
     "name": "#%%\n"
    }
   }
  },
  {
   "cell_type": "code",
   "execution_count": null,
   "outputs": [],
   "source": [],
   "metadata": {
    "collapsed": false,
    "pycharm": {
     "name": "#%%\n"
    }
   }
  }
 ],
 "metadata": {
  "kernelspec": {
   "display_name": "Python 3",
   "language": "python",
   "name": "python3"
  },
  "language_info": {
   "codemirror_mode": {
    "name": "ipython",
    "version": 2
   },
   "file_extension": ".py",
   "mimetype": "text/x-python",
   "name": "python",
   "nbconvert_exporter": "python",
   "pygments_lexer": "ipython2",
   "version": "2.7.6"
  }
 },
 "nbformat": 4,
 "nbformat_minor": 0
}