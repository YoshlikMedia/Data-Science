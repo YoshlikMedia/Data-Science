{
 "cells": [
  {
   "cell_type": "markdown",
   "id": "2f3ffaab",
   "metadata": {},
   "source": [
    "# Python\n",
    "## Numpy"
   ]
  },
  {
   "cell_type": "code",
   "execution_count": 9,
   "id": "3e6eccff",
   "metadata": {},
   "outputs": [],
   "source": [
    "import numpy as np"
   ]
  },
  {
   "cell_type": "code",
   "execution_count": 10,
   "id": "15dab378",
   "metadata": {},
   "outputs": [],
   "source": [
    "my_list = list(range(1000000))\n",
    "my_array = np.array(range(1000000))"
   ]
  },
  {
   "cell_type": "code",
   "execution_count": 11,
   "id": "bea10580",
   "metadata": {},
   "outputs": [
    {
     "name": "stdout",
     "output_type": "stream",
     "text": [
      "CPU times: user 246 ms, sys: 46.1 ms, total: 292 ms\n",
      "Wall time: 291 ms\n"
     ]
    }
   ],
   "source": [
    "%time for _ in range(10): [x*2 for x in my_list]"
   ]
  },
  {
   "cell_type": "code",
   "execution_count": 12,
   "id": "256c29f5",
   "metadata": {},
   "outputs": [
    {
     "name": "stdout",
     "output_type": "stream",
     "text": [
      "CPU times: user 17.2 ms, sys: 9.93 ms, total: 27.2 ms\n",
      "Wall time: 25.1 ms\n"
     ]
    }
   ],
   "source": [
    "%time for _ in range(10): my_array*2"
   ]
  },
  {
   "cell_type": "code",
   "execution_count": 13,
   "id": "c354e8e2",
   "metadata": {},
   "outputs": [
    {
     "data": {
      "text/plain": [
       "11.64"
      ]
     },
     "execution_count": 13,
     "metadata": {},
     "output_type": "execute_result"
    }
   ],
   "source": [
    "291/25"
   ]
  },
  {
   "cell_type": "code",
   "execution_count": null,
   "id": "24a7e4b9",
   "metadata": {},
   "outputs": [],
   "source": []
  }
 ],
 "metadata": {
  "kernelspec": {
   "display_name": "Python 3",
   "language": "python",
   "name": "python3"
  },
  "language_info": {
   "codemirror_mode": {
    "name": "ipython",
    "version": 3
   },
   "file_extension": ".py",
   "mimetype": "text/x-python",
   "name": "python",
   "nbconvert_exporter": "python",
   "pygments_lexer": "ipython3",
   "version": "3.8.12"
  }
 },
 "nbformat": 4,
 "nbformat_minor": 5
}
