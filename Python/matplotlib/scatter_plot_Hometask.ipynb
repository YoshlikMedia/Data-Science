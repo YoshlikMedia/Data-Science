{
  "cells": [
    {
      "cell_type": "code",
      "execution_count": 9,
      "metadata": {
        "id": "_AznB3KjOqRF"
      },
      "outputs": [],
      "source": [
        "import matplotlib.pyplot as plt\n",
        "import math\n",
        "import numpy as np"
      ]
    },
    {
      "cell_type": "code",
      "execution_count": 10,
      "metadata": {
        "id": "SjPk-64-QbFC"
      },
      "outputs": [],
      "source": [
        "def show_plot(x, y):\n",
        "    \"\"\"\n",
        "    Given x and y values, this function will plot the graph\n",
        "    Args:\n",
        "        x(int): fist point\n",
        "        y(int): second point\n",
        "    Returns:\n",
        "        None\n",
        "    \"\"\"\n",
        "    plt.scatter(x, y)\n",
        "    plt.show()"
      ]
    },
    {
      "cell_type": "code",
      "execution_count": 11,
      "metadata": {
        "colab": {
          "base_uri": "https://localhost:8080/",
          "height": 265
        },
        "id": "O-U1SqH-kbRT",
        "outputId": "cc16f3ba-da80-4820-e4c2-7777907c428f"
      },
      "outputs": [
        {
          "data": {
            "image/png": "[encoded data removed]",
            "text/plain": [
              "<Figure size 432x288 with 1 Axes>"
            ]
          },
          "metadata": {
            "needs_background": "light"
          },
          "output_type": "display_data"
        }
      ],
      "source": [
        "show_plot(4,3)"
      ]
    },
    {
      "cell_type": "code",
      "execution_count": 12,
      "metadata": {
        "colab": {
          "base_uri": "https://localhost:8080/",
          "height": 265
        },
        "id": "L-WZy-imkek1",
        "outputId": "fca34874-937d-4a5b-9637-c918e3de7e36"
      },
      "outputs": [
        {
          "data": {
            "image/png": "[encoded data removed]",
            "text/plain": [
              "<Figure size 432x288 with 1 Axes>"
            ]
          },
          "metadata": {
            "needs_background": "light"
          },
          "output_type": "display_data"
        }
      ],
      "source": [
        "def show_plot_points_in_list(x, y):\n",
        "    \"\"\"\n",
        "    Given x and y lists, this function will plot the graph\n",
        "    Args:\n",
        "        x(list): list of x points\n",
        "        y(list): list of y points\n",
        "    Returns:\n",
        "        None\n",
        "    \"\"\"\n",
        "    plt.scatter(x, y)\n",
        "    plt.show()\n",
        "    \n",
        "show_plot_points_in_list([1, 2, 3, 4, 5], [1, 4, 9, 16, 25])"
      ]
    },
    {
      "cell_type": "code",
      "execution_count": 13,
      "metadata": {
        "id": "oFU_9HRomppm"
      },
      "outputs": [],
      "source": [
        "def plot_function(k):\n",
        "    \"\"\"\n",
        "    plot a graph of the kx function.\n",
        "    Asign the x and y values to a list\n",
        "    x values are from 0 to 10, y = kx\n",
        "    \n",
        "    Args:\n",
        "        k(int): integer value\n",
        "    Returns:\n",
        "        None\n",
        "    \"\"\"\n",
        "    import numpy as np\n",
        "    x = np.arange(0, 10, 1)\n",
        "    y = k * x\n",
        "    plt.scatter(x, y)\n",
        "    plt.show()"
      ]
    },
    {
      "cell_type": "code",
      "execution_count": 14,
      "metadata": {
        "colab": {
          "base_uri": "https://localhost:8080/",
          "height": 265
        },
        "id": "cvgLtbLS2Cmf",
        "outputId": "52cd904b-c728-4163-d2cb-8c3b5efe7438"
      },
      "outputs": [
        {
          "data": {
            "image/png": "[encoded data removed]",
            "text/plain": [
              "<Figure size 432x288 with 1 Axes>"
            ]
          },
          "metadata": {
            "needs_background": "light"
          },
          "output_type": "display_data"
        }
      ],
      "source": [
        "plot_function(-2) "
      ]
    },
    {
      "cell_type": "code",
      "execution_count": 15,
      "metadata": {
        "id": "sUuyq8H5qHZF"
      },
      "outputs": [],
      "source": [
        "def plot_function_1(k):\n",
        "    \"\"\"\n",
        "    plot a graph of the kx^2 function.\n",
        "    Assign the x and y values to a list\n",
        "    x values are from -10 to 11, y = kx^2\n",
        "    \n",
        "    Args:\n",
        "        k(int): integer value\n",
        "    Returns:\n",
        "        None\n",
        "    \"\"\"\n",
        "    x = np.arange(-10, 11, 1)\n",
        "    y = k * x**2\n",
        "\n",
        "    plt.scatter(x, y)\n",
        "    plt.show()"
      ]
    },
    {
      "cell_type": "code",
      "execution_count": 16,
      "metadata": {
        "colab": {
          "base_uri": "https://localhost:8080/",
          "height": 265
        },
        "id": "Fj8IXhRL2cEd",
        "outputId": "5b0c09f0-9881-4175-8dd7-66960cc6d954"
      },
      "outputs": [
        {
          "data": {
            "image/png": "[encoded data removed]",
            "text/plain": [
              "<Figure size 432x288 with 1 Axes>"
            ]
          },
          "metadata": {
            "needs_background": "light"
          },
          "output_type": "display_data"
        }
      ],
      "source": [
        "plot_function_1(5)"
      ]
    },
    {
      "cell_type": "code",
      "execution_count": 67,
      "metadata": {
        "id": "1QftZHMksPV3"
      },
      "outputs": [],
      "source": [
        "def plot_sin_function():\n",
        "    \"\"\"\n",
        "    draw a graph of the sin function\n",
        "    Assign the x and y values to a list\n",
        "    x values are from -500 to 501, y = sin(x)\n",
        "    \"\"\"\n",
        "    # write your code here\n",
        "    x = np.arange(-500, 501, 0.1)\n",
        "    y = np.sin(x/50)\n",
        "\n",
        "    plt.scatter(x, y, s=1)\n",
        "    plt.show()"
      ]
    },
    {
      "cell_type": "code",
      "execution_count": 68,
      "metadata": {
        "colab": {
          "base_uri": "https://localhost:8080/",
          "height": 265
        },
        "id": "MZYdNvgF2m7N",
        "outputId": "8bd55dc6-3d9c-4cb5-99fd-7a21948481bc"
      },
      "outputs": [
        {
          "data": {
            "image/png": "[encoded data removed]",
            "text/plain": [
              "<Figure size 432x288 with 1 Axes>"
            ]
          },
          "metadata": {
            "needs_background": "light"
          },
          "output_type": "display_data"
        }
      ],
      "source": [
        "plot_sin_function()"
      ]
    },
    {
      "cell_type": "code",
      "execution_count": 91,
      "metadata": {
        "id": "NZNBkys-0M4y"
      },
      "outputs": [],
      "source": [
        "def plot_cos_function():\n",
        "    \"\"\"\n",
        "    draw a graph of the sin function\n",
        "    Assign the x and y values to a list\n",
        "    x values are from -500 to 501, y = cos(x)\n",
        "    \"\"\"\n",
        "    # write your code here\n",
        "    x = list(range(-500, 501, 1))\n",
        "    y = [math.cos(i/40) for i in x]\n",
        "    plt.scatter(x, y, s=2)\n",
        "    plt.show()"
      ]
    },
    {
      "cell_type": "code",
      "execution_count": 92,
      "metadata": {
        "colab": {
          "base_uri": "https://localhost:8080/",
          "height": 265
        },
        "id": "6zJJ4QNA0QVI",
        "outputId": "b6d9f8ca-09c9-4062-e28d-a3172ae70f96"
      },
      "outputs": [
        {
          "data": {
            "image/png": "[encoded data removed]",
            "text/plain": [
              "<Figure size 432x288 with 1 Axes>"
            ]
          },
          "metadata": {
            "needs_background": "light"
          },
          "output_type": "display_data"
        }
      ],
      "source": [
        "plot_cos_function()"
      ]
    },
    {
      "cell_type": "code",
      "execution_count": null,
      "metadata": {
        "id": "sgsiCHDF2vZ-"
      },
      "outputs": [],
      "source": []
    }
  ],
  "metadata": {
    "colab": {
      "collapsed_sections": [],
      "name": "scatter plot. Hometask.ipynb",
      "provenance": []
    },
    "kernelspec": {
      "display_name": "Python 3",
      "name": "python3"
    },
    "language_info": {
      "name": "python"
    }
  },
  "nbformat": 4,
  "nbformat_minor": 0
}
