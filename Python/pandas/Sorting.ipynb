{
 "cells": [
  {
   "cell_type": "code",
   "execution_count": 1,
   "metadata": {
    "collapsed": true
   },
   "outputs": [],
   "source": [
    "import  pandas as pd\n",
    "import numpy as np"
   ]
  },
  {
   "cell_type": "code",
   "execution_count": 4,
   "outputs": [],
   "source": [
    "obj = pd.Series(np.arange(4), index=['d', 'a', 'b', 'c'])"
   ],
   "metadata": {
    "collapsed": false,
    "pycharm": {
     "name": "#%%\n"
    }
   }
  },
  {
   "cell_type": "code",
   "execution_count": 5,
   "outputs": [
    {
     "data": {
      "text/plain": "d    0\na    1\nb    2\nc    3\ndtype: int32"
     },
     "execution_count": 5,
     "metadata": {},
     "output_type": "execute_result"
    }
   ],
   "source": [
    "obj"
   ],
   "metadata": {
    "collapsed": false,
    "pycharm": {
     "name": "#%%\n"
    }
   }
  },
  {
   "cell_type": "code",
   "execution_count": 6,
   "outputs": [
    {
     "data": {
      "text/plain": "a    1\nb    2\nc    3\nd    0\ndtype: int32"
     },
     "execution_count": 6,
     "metadata": {},
     "output_type": "execute_result"
    }
   ],
   "source": [
    "obj.sort_index()"
   ],
   "metadata": {
    "collapsed": false,
    "pycharm": {
     "name": "#%%\n"
    }
   }
  },
  {
   "cell_type": "code",
   "execution_count": 7,
   "outputs": [
    {
     "data": {
      "text/plain": "d    0\na    1\nb    2\nc    3\ndtype: int32"
     },
     "execution_count": 7,
     "metadata": {},
     "output_type": "execute_result"
    }
   ],
   "source": [
    "obj.sort_values()"
   ],
   "metadata": {
    "collapsed": false,
    "pycharm": {
     "name": "#%%\n"
    }
   }
  },
  {
   "cell_type": "code",
   "execution_count": 8,
   "outputs": [
    {
     "data": {
      "text/plain": "   price      brand    model  year   title_status  mileage   color  \\\n0   6300     toyota  cruiser  2008  clean vehicle   274117   black   \n1   2899       ford       se  2011  clean vehicle   190552  silver   \n2   5350      dodge      mpv  2018  clean vehicle    39590  silver   \n3  25000       ford     door  2014  clean vehicle    64146    blue   \n4  27700  chevrolet     1500  2018  clean vehicle     6654     red   \n\n                   vin        lot       state country      condition  \n0    jtezu11f88k007763  159348797  new jersey     usa   10 days left  \n1    2fmdk3gc4bbb02217  166951262   tennessee     usa    6 days left  \n2    3c4pdcgg5jt346413  167655728     georgia     usa    2 days left  \n3    1ftfw1et4efc23745  167753855    virginia     usa  22 hours left  \n4    3gcpcrec2jg473991  167763266     florida     usa  22 hours left  ",
      "text/html": "<div>\n<style scoped>\n    .dataframe tbody tr th:only-of-type {\n        vertical-align: middle;\n    }\n\n    .dataframe tbody tr th {\n        vertical-align: top;\n    }\n\n    .dataframe thead th {\n        text-align: right;\n    }\n</style>\n<table border=\"1\" class=\"dataframe\">\n  <thead>\n    <tr style=\"text-align: right;\">\n      <th></th>\n      <th>price</th>\n      <th>brand</th>\n      <th>model</th>\n      <th>year</th>\n      <th>title_status</th>\n      <th>mileage</th>\n      <th>color</th>\n      <th>vin</th>\n      <th>lot</th>\n      <th>state</th>\n      <th>country</th>\n      <th>condition</th>\n    </tr>\n  </thead>\n  <tbody>\n    <tr>\n      <th>0</th>\n      <td>6300</td>\n      <td>toyota</td>\n      <td>cruiser</td>\n      <td>2008</td>\n      <td>clean vehicle</td>\n      <td>274117</td>\n      <td>black</td>\n      <td>jtezu11f88k007763</td>\n      <td>159348797</td>\n      <td>new jersey</td>\n      <td>usa</td>\n      <td>10 days left</td>\n    </tr>\n    <tr>\n      <th>1</th>\n      <td>2899</td>\n      <td>ford</td>\n      <td>se</td>\n      <td>2011</td>\n      <td>clean vehicle</td>\n      <td>190552</td>\n      <td>silver</td>\n      <td>2fmdk3gc4bbb02217</td>\n      <td>166951262</td>\n      <td>tennessee</td>\n      <td>usa</td>\n      <td>6 days left</td>\n    </tr>\n    <tr>\n      <th>2</th>\n      <td>5350</td>\n      <td>dodge</td>\n      <td>mpv</td>\n      <td>2018</td>\n      <td>clean vehicle</td>\n      <td>39590</td>\n      <td>silver</td>\n      <td>3c4pdcgg5jt346413</td>\n      <td>167655728</td>\n      <td>georgia</td>\n      <td>usa</td>\n      <td>2 days left</td>\n    </tr>\n    <tr>\n      <th>3</th>\n      <td>25000</td>\n      <td>ford</td>\n      <td>door</td>\n      <td>2014</td>\n      <td>clean vehicle</td>\n      <td>64146</td>\n      <td>blue</td>\n      <td>1ftfw1et4efc23745</td>\n      <td>167753855</td>\n      <td>virginia</td>\n      <td>usa</td>\n      <td>22 hours left</td>\n    </tr>\n    <tr>\n      <th>4</th>\n      <td>27700</td>\n      <td>chevrolet</td>\n      <td>1500</td>\n      <td>2018</td>\n      <td>clean vehicle</td>\n      <td>6654</td>\n      <td>red</td>\n      <td>3gcpcrec2jg473991</td>\n      <td>167763266</td>\n      <td>florida</td>\n      <td>usa</td>\n      <td>22 hours left</td>\n    </tr>\n  </tbody>\n</table>\n</div>"
     },
     "execution_count": 8,
     "metadata": {},
     "output_type": "execute_result"
    }
   ],
   "source": [
    "df = pd.read_csv('https://raw.githubusercontent.com/anvarnarz/praktikum_datasets/main/usa_cars.csv', index_col=0)\n",
    "df.head()"
   ],
   "metadata": {
    "collapsed": false,
    "pycharm": {
     "name": "#%%\n"
    }
   }
  },
  {
   "cell_type": "code",
   "execution_count": null,
   "outputs": [],
   "source": [
    "\n"
   ],
   "metadata": {
    "collapsed": false,
    "pycharm": {
     "name": "#%%\n"
    }
   }
  }
 ],
 "metadata": {
  "kernelspec": {
   "display_name": "Python 3",
   "language": "python",
   "name": "python3"
  },
  "language_info": {
   "codemirror_mode": {
    "name": "ipython",
    "version": 2
   },
   "file_extension": ".py",
   "mimetype": "text/x-python",
   "name": "python",
   "nbconvert_exporter": "python",
   "pygments_lexer": "ipython2",
   "version": "2.7.6"
  }
 },
 "nbformat": 4,
 "nbformat_minor": 0
}