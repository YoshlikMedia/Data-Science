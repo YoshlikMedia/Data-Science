{
 "cells": [
  {
   "cell_type": "code",
   "execution_count": 4,
   "id": "a2e11543-edbf-43d0-8cbc-cdc8c9584514",
   "metadata": {},
   "outputs": [],
   "source": [
    "import pandas as pd\n",
    "import numpy as np\n",
    "from pandas import Series"
   ]
  },
  {
   "cell_type": "code",
   "execution_count": 2,
   "id": "d47fb31b-3b6f-4a30-9aae-8996c944d2df",
   "metadata": {},
   "outputs": [],
   "source": [
    "obj = Series([4, 5, 6, 7, 9, 2])"
   ]
  },
  {
   "cell_type": "code",
   "execution_count": 3,
   "id": "9d09c788-355f-41ae-a203-1ace071d56a4",
   "metadata": {},
   "outputs": [
    {
     "data": {
      "text/plain": [
       "pandas.core.series.Series"
      ]
     },
     "execution_count": 3,
     "metadata": {},
     "output_type": "execute_result"
    }
   ],
   "source": [
    "type(obj)"
   ]
  },
  {
   "cell_type": "code",
   "execution_count": 4,
   "id": "6dc1a377-61e3-4444-ac96-4d1dbdcd7597",
   "metadata": {},
   "outputs": [
    {
     "data": {
      "text/plain": [
       "0    4\n",
       "1    5\n",
       "2    6\n",
       "3    7\n",
       "4    9\n",
       "5    2\n",
       "dtype: int64"
      ]
     },
     "execution_count": 4,
     "metadata": {},
     "output_type": "execute_result"
    }
   ],
   "source": [
    "obj"
   ]
  },
  {
   "cell_type": "code",
   "execution_count": 5,
   "id": "9d8906a7-7829-48b5-9c31-8d24463ef80a",
   "metadata": {},
   "outputs": [
    {
     "data": {
      "text/plain": [
       "array([4, 5, 6, 7, 9, 2])"
      ]
     },
     "execution_count": 5,
     "metadata": {},
     "output_type": "execute_result"
    }
   ],
   "source": [
    "obj.values"
   ]
  },
  {
   "cell_type": "code",
   "execution_count": 6,
   "id": "6ae83ca2-d04c-4963-8942-875c598b648f",
   "metadata": {},
   "outputs": [
    {
     "data": {
      "text/plain": [
       "RangeIndex(start=0, stop=6, step=1)"
      ]
     },
     "execution_count": 6,
     "metadata": {},
     "output_type": "execute_result"
    }
   ],
   "source": [
    "obj.index"
   ]
  },
  {
   "cell_type": "code",
   "execution_count": 7,
   "id": "462bc2e3-6b5c-48cc-b211-c1cf488f68c5",
   "metadata": {},
   "outputs": [
    {
     "data": {
      "text/plain": [
       "4"
      ]
     },
     "execution_count": 7,
     "metadata": {},
     "output_type": "execute_result"
    }
   ],
   "source": [
    "obj[0]"
   ]
  },
  {
   "cell_type": "code",
   "execution_count": 10,
   "id": "61a1cf65-dfc3-44a2-8330-a8fef5e9187e",
   "metadata": {},
   "outputs": [],
   "source": [
    "obj = Series([4, 5, 6, 7, 9, 2], index=['a', 'b', 'c', 'd', 'e', 'f'])"
   ]
  },
  {
   "cell_type": "code",
   "execution_count": 11,
   "id": "e620e75d-fb55-4f81-b85f-19a5bae59498",
   "metadata": {},
   "outputs": [
    {
     "data": {
      "text/plain": [
       "Index(['a', 'b', 'c', 'd', 'e', 'f'], dtype='object')"
      ]
     },
     "execution_count": 11,
     "metadata": {},
     "output_type": "execute_result"
    }
   ],
   "source": [
    "obj.index"
   ]
  },
  {
   "cell_type": "code",
   "execution_count": 12,
   "id": "78f00d77-2fd3-459c-80da-0c8396423632",
   "metadata": {},
   "outputs": [
    {
     "data": {
      "text/plain": [
       "a    4\n",
       "b    5\n",
       "c    6\n",
       "d    7\n",
       "e    9\n",
       "f    2\n",
       "dtype: int64"
      ]
     },
     "execution_count": 12,
     "metadata": {},
     "output_type": "execute_result"
    }
   ],
   "source": [
    "obj"
   ]
  },
  {
   "cell_type": "code",
   "execution_count": 13,
   "id": "43af5869-df23-4529-802e-acd432d98e2a",
   "metadata": {},
   "outputs": [
    {
     "data": {
      "text/plain": [
       "4"
      ]
     },
     "execution_count": 13,
     "metadata": {},
     "output_type": "execute_result"
    }
   ],
   "source": [
    "obj.a"
   ]
  },
  {
   "cell_type": "code",
   "execution_count": 16,
   "id": "716a3886-d22f-42d5-8456-ae70ffb223f4",
   "metadata": {},
   "outputs": [
    {
     "data": {
      "text/plain": [
       "4"
      ]
     },
     "execution_count": 16,
     "metadata": {},
     "output_type": "execute_result"
    }
   ],
   "source": [
    "obj['a']"
   ]
  },
  {
   "cell_type": "code",
   "execution_count": 17,
   "id": "bfc3360b-5ca0-41aa-ae23-a746d5636478",
   "metadata": {},
   "outputs": [
    {
     "data": {
      "text/plain": [
       "Index(['a', 'b', 'c', 'd', 'e', 'f'], dtype='object')"
      ]
     },
     "execution_count": 17,
     "metadata": {},
     "output_type": "execute_result"
    }
   ],
   "source": [
    "obj.index"
   ]
  },
  {
   "cell_type": "code",
   "execution_count": 18,
   "id": "5debd423-5c89-4ae7-ad97-70ad433b8cc2",
   "metadata": {},
   "outputs": [
    {
     "data": {
      "text/plain": [
       "a    4\n",
       "b    5\n",
       "dtype: int64"
      ]
     },
     "execution_count": 18,
     "metadata": {},
     "output_type": "execute_result"
    }
   ],
   "source": [
    "obj[['a', 'b']]"
   ]
  },
  {
   "cell_type": "code",
   "execution_count": 21,
   "id": "192bd836-b08a-4c07-a679-9a788dba5fca",
   "metadata": {},
   "outputs": [
    {
     "data": {
      "text/plain": [
       "5"
      ]
     },
     "execution_count": 21,
     "metadata": {},
     "output_type": "execute_result"
    }
   ],
   "source": [
    "obj['b']"
   ]
  },
  {
   "cell_type": "code",
   "execution_count": 25,
   "id": "ad77d006-b2b4-4e18-bf9c-2a65f6dd4ba4",
   "metadata": {},
   "outputs": [
    {
     "data": {
      "text/plain": [
       "a    4\n",
       "f    2\n",
       "dtype: int64"
      ]
     },
     "execution_count": 25,
     "metadata": {},
     "output_type": "execute_result"
    }
   ],
   "source": [
    "obj[obj<5]"
   ]
  },
  {
   "cell_type": "code",
   "execution_count": 26,
   "id": "ae5f1031-ca31-4faf-8e8b-3f3fb4003c69",
   "metadata": {},
   "outputs": [
    {
     "data": {
      "text/plain": [
       "a     8\n",
       "b    10\n",
       "c    12\n",
       "d    14\n",
       "e    18\n",
       "f     4\n",
       "dtype: int64"
      ]
     },
     "execution_count": 26,
     "metadata": {},
     "output_type": "execute_result"
    }
   ],
   "source": [
    "obj*2"
   ]
  },
  {
   "cell_type": "code",
   "execution_count": 27,
   "id": "e4c5d03e-ad7d-4254-b574-5ef97d027f53",
   "metadata": {},
   "outputs": [
    {
     "data": {
      "text/plain": [
       "a      54.598150\n",
       "b     148.413159\n",
       "c     403.428793\n",
       "d    1096.633158\n",
       "e    8103.083928\n",
       "f       7.389056\n",
       "dtype: float64"
      ]
     },
     "execution_count": 27,
     "metadata": {},
     "output_type": "execute_result"
    }
   ],
   "source": [
    "np.exp(obj)"
   ]
  },
  {
   "cell_type": "code",
   "execution_count": 18,
   "id": "fc249813-cb72-4333-b9d9-f04b9735be22",
   "metadata": {},
   "outputs": [],
   "source": [
    "temp_dict = {'one': 1000, 'two': 2000, 'three': 3000, 'four':4000, 'five': 5000}"
   ]
  },
  {
   "cell_type": "code",
   "execution_count": 19,
   "id": "b9baf3af-7470-48f8-9de5-59348413f0f5",
   "metadata": {},
   "outputs": [],
   "source": [
    "temp1 = Series(temp_dict)"
   ]
  },
  {
   "cell_type": "code",
   "execution_count": 21,
   "id": "a5426f5e-eba5-422b-b6ae-718a8caacc8e",
   "metadata": {},
   "outputs": [
    {
     "data": {
      "text/plain": [
       "one      1000\n",
       "two      2000\n",
       "three    3000\n",
       "four     4000\n",
       "five     5000\n",
       "dtype: int64"
      ]
     },
     "execution_count": 21,
     "metadata": {},
     "output_type": "execute_result"
    }
   ],
   "source": [
    "temp1"
   ]
  },
  {
   "cell_type": "code",
   "execution_count": 7,
   "id": "1edced0e-c50e-4c4f-8769-3b6484788530",
   "metadata": {},
   "outputs": [
    {
     "data": {
      "text/plain": [
       "True"
      ]
     },
     "execution_count": 7,
     "metadata": {},
     "output_type": "execute_result"
    }
   ],
   "source": [
    "'one' in temp_dict"
   ]
  },
  {
   "cell_type": "code",
   "execution_count": 8,
   "id": "20be04a8-ec4f-438e-85c6-8cabb37f06e4",
   "metadata": {},
   "outputs": [
    {
     "data": {
      "text/plain": [
       "{'one': 1000, 'two': 2000, 'three': 3000, 'four': 4000, 'five': 5000}"
      ]
     },
     "execution_count": 8,
     "metadata": {},
     "output_type": "execute_result"
    }
   ],
   "source": [
    "temp_dict"
   ]
  },
  {
   "cell_type": "code",
   "execution_count": 10,
   "id": "89a1408c-862f-4e81-b182-cd98f83c21f9",
   "metadata": {},
   "outputs": [],
   "source": [
    "index = ['one', 'two', 'four', 'six', 'five']"
   ]
  },
  {
   "cell_type": "code",
   "execution_count": 11,
   "id": "f79e3cdc-ed00-4612-84da-d1cbc13111e5",
   "metadata": {},
   "outputs": [],
   "source": [
    "temp = Series(temp_dict, index=index)"
   ]
  },
  {
   "cell_type": "code",
   "execution_count": 12,
   "id": "61f88afd-801b-4dbc-8191-069d5ae5cc80",
   "metadata": {},
   "outputs": [
    {
     "data": {
      "text/plain": [
       "one     1000.0\n",
       "two     2000.0\n",
       "four    4000.0\n",
       "six        NaN\n",
       "five    5000.0\n",
       "dtype: float64"
      ]
     },
     "execution_count": 12,
     "metadata": {},
     "output_type": "execute_result"
    }
   ],
   "source": [
    "temp"
   ]
  },
  {
   "cell_type": "code",
   "execution_count": 13,
   "id": "26f0540a-4c6f-48bd-a346-146586b7ac06",
   "metadata": {},
   "outputs": [
    {
     "data": {
      "text/plain": [
       "one     False\n",
       "two     False\n",
       "four    False\n",
       "six      True\n",
       "five    False\n",
       "dtype: bool"
      ]
     },
     "execution_count": 13,
     "metadata": {},
     "output_type": "execute_result"
    }
   ],
   "source": [
    "temp.isnull()"
   ]
  },
  {
   "cell_type": "code",
   "execution_count": 14,
   "id": "85651acc-3a0b-4796-91b9-196857ccd18a",
   "metadata": {},
   "outputs": [
    {
     "data": {
      "text/plain": [
       "one      True\n",
       "two      True\n",
       "four     True\n",
       "six     False\n",
       "five     True\n",
       "dtype: bool"
      ]
     },
     "execution_count": 14,
     "metadata": {},
     "output_type": "execute_result"
    }
   ],
   "source": [
    "temp.notnull()"
   ]
  },
  {
   "cell_type": "code",
   "execution_count": 22,
   "id": "242c6ad3-2779-4e3b-9c83-f8b3ecf47df9",
   "metadata": {},
   "outputs": [
    {
     "data": {
      "text/plain": [
       "five     10000.0\n",
       "four      8000.0\n",
       "one       2000.0\n",
       "six          NaN\n",
       "three        NaN\n",
       "two       4000.0\n",
       "dtype: float64"
      ]
     },
     "execution_count": 22,
     "metadata": {},
     "output_type": "execute_result"
    }
   ],
   "source": [
    "temp + temp1"
   ]
  },
  {
   "cell_type": "code",
   "execution_count": 23,
   "id": "7fc0e143-a694-4a89-8372-f9757533acbc",
   "metadata": {},
   "outputs": [],
   "source": [
    "temp.name = 'nums'"
   ]
  },
  {
   "cell_type": "code",
   "execution_count": 24,
   "id": "adbf4788-60f4-4ad1-8d32-e7f1c3e22ea9",
   "metadata": {},
   "outputs": [
    {
     "data": {
      "text/plain": [
       "one     1000.0\n",
       "two     2000.0\n",
       "four    4000.0\n",
       "six        NaN\n",
       "five    5000.0\n",
       "Name: nums, dtype: float64"
      ]
     },
     "execution_count": 24,
     "metadata": {},
     "output_type": "execute_result"
    }
   ],
   "source": [
    "temp"
   ]
  },
  {
   "cell_type": "code",
   "execution_count": 25,
   "id": "f3cdeccb-c5b6-4a96-97c2-23192d9dc8b9",
   "metadata": {},
   "outputs": [],
   "source": [
    "temp.index.name = 'Nums'"
   ]
  },
  {
   "cell_type": "code",
   "execution_count": 26,
   "id": "e0d9c96d-fcdd-4813-82a6-ea9b638f8a38",
   "metadata": {},
   "outputs": [
    {
     "data": {
      "text/plain": [
       "Nums\n",
       "one     1000.0\n",
       "two     2000.0\n",
       "four    4000.0\n",
       "six        NaN\n",
       "five    5000.0\n",
       "Name: nums, dtype: float64"
      ]
     },
     "execution_count": 26,
     "metadata": {},
     "output_type": "execute_result"
    }
   ],
   "source": [
    "temp"
   ]
  },
  {
   "cell_type": "code",
   "execution_count": 27,
   "id": "9ee24561-d793-4f03-a69b-a4b1ce2f9847",
   "metadata": {},
   "outputs": [],
   "source": [
    "from pandas import Series, DataFrame as df # DataFrameni qisqacha qilib df deb chariqib oldik"
   ]
  },
  {
   "cell_type": "code",
   "execution_count": 28,
   "id": "de8fc070-6f9a-492d-9180-65f6f1d75d53",
   "metadata": {},
   "outputs": [],
   "source": [
    "obj = Series([4, 5, -7, 3.2])\n"
   ]
  },
  {
   "cell_type": "code",
   "execution_count": 29,
   "id": "3db63a33-5b26-440f-8205-4711e9fce4bd",
   "metadata": {},
   "outputs": [
    {
     "data": {
      "text/plain": [
       "0    4.0\n",
       "1    5.0\n",
       "2   -7.0\n",
       "3    3.2\n",
       "dtype: float64"
      ]
     },
     "execution_count": 29,
     "metadata": {},
     "output_type": "execute_result"
    }
   ],
   "source": [
    "obj"
   ]
  },
  {
   "cell_type": "code",
   "execution_count": 30,
   "id": "aa06cf83-cadb-4a30-ae5e-049bab81753e",
   "metadata": {},
   "outputs": [
    {
     "data": {
      "text/plain": [
       "array([ 4. ,  5. , -7. ,  3.2])"
      ]
     },
     "execution_count": 30,
     "metadata": {},
     "output_type": "execute_result"
    }
   ],
   "source": [
    "obj.values # qiymatlar\n"
   ]
  },
  {
   "cell_type": "code",
   "execution_count": 31,
   "id": "fcc919c7-aa6e-441a-8bb5-20337bbb4336",
   "metadata": {},
   "outputs": [
    {
     "data": {
      "text/plain": [
       "RangeIndex(start=0, stop=4, step=1)"
      ]
     },
     "execution_count": 31,
     "metadata": {},
     "output_type": "execute_result"
    }
   ],
   "source": [
    "obj.index # indekslar\n"
   ]
  },
  {
   "cell_type": "code",
   "execution_count": 32,
   "id": "1883efd9-a63a-4649-a2f9-519173d0ec0e",
   "metadata": {},
   "outputs": [
    {
     "data": {
      "text/plain": [
       "4.0"
      ]
     },
     "execution_count": 32,
     "metadata": {},
     "output_type": "execute_result"
    }
   ],
   "source": [
    "obj[0] # birinchi element\n"
   ]
  },
  {
   "cell_type": "code",
   "execution_count": 35,
   "id": "a8445c44-53dc-400e-bbc8-f1fc2202b048",
   "metadata": {},
   "outputs": [],
   "source": [
    "obj2 = Series([4, 5, -7, 3.2], index=['a','b','c','d']) # bu yerda indekslarga alifbo harflarini berdik."
   ]
  },
  {
   "cell_type": "code",
   "execution_count": 36,
   "id": "573caacd-8bc2-4f86-8bec-6240b20f0a67",
   "metadata": {},
   "outputs": [
    {
     "data": {
      "text/plain": [
       "a    4.0\n",
       "b    5.0\n",
       "c   -7.0\n",
       "d    3.2\n",
       "dtype: float64"
      ]
     },
     "execution_count": 36,
     "metadata": {},
     "output_type": "execute_result"
    }
   ],
   "source": [
    "obj2"
   ]
  },
  {
   "cell_type": "code",
   "execution_count": 37,
   "id": "488739b8-0107-4dab-b3f5-dc5703c2404d",
   "metadata": {},
   "outputs": [
    {
     "data": {
      "text/plain": [
       "Index(['a', 'b', 'c', 'd'], dtype='object')"
      ]
     },
     "execution_count": 37,
     "metadata": {},
     "output_type": "execute_result"
    }
   ],
   "source": [
    "obj2.index"
   ]
  },
  {
   "cell_type": "code",
   "execution_count": 38,
   "id": "56dc19e7-727b-442f-888f-564a8eb07667",
   "metadata": {},
   "outputs": [
    {
     "data": {
      "text/plain": [
       "4.0"
      ]
     },
     "execution_count": 38,
     "metadata": {},
     "output_type": "execute_result"
    }
   ],
   "source": [
    "obj2['a']"
   ]
  },
  {
   "cell_type": "code",
   "execution_count": 39,
   "id": "bec1bd8a-0bc6-48ff-a600-f2cddd2197eb",
   "metadata": {},
   "outputs": [],
   "source": [
    "obj2['a']=4.5"
   ]
  },
  {
   "cell_type": "code",
   "execution_count": 40,
   "id": "d1e11cb2-b206-4639-a929-26adbbe6305f",
   "metadata": {},
   "outputs": [
    {
     "data": {
      "text/plain": [
       "4.5"
      ]
     },
     "execution_count": 40,
     "metadata": {},
     "output_type": "execute_result"
    }
   ],
   "source": [
    "obj2.a"
   ]
  },
  {
   "cell_type": "code",
   "execution_count": 41,
   "id": "2d4e6da2-65af-4dca-8dbf-e50c4ce57ae3",
   "metadata": {},
   "outputs": [],
   "source": [
    "obj2['e']=5"
   ]
  },
  {
   "cell_type": "code",
   "execution_count": 43,
   "id": "a6465f9b-9475-46ae-97d5-e35c77ca070b",
   "metadata": {},
   "outputs": [
    {
     "data": {
      "text/plain": [
       "a    4.5\n",
       "c   -7.0\n",
       "e    5.0\n",
       "dtype: float64"
      ]
     },
     "execution_count": 43,
     "metadata": {},
     "output_type": "execute_result"
    }
   ],
   "source": [
    "obj2[['a','c','e']]"
   ]
  },
  {
   "cell_type": "code",
   "execution_count": 46,
   "id": "43bda381-966c-44d0-b07c-bf1a1dc32822",
   "metadata": {},
   "outputs": [],
   "source": [
    "cars_dict = {'Malibu':40000, 'Lacetti':20000, 'Toyota':45000, 'Mazda':52000, 'Honda':38000} # bu lug'at\n",
    "models = ['Honda','Mazda','Lacetti','Jaguar','Malibu','Toyota'] # buyerda bitta qo'shimcha model bor"
   ]
  },
  {
   "cell_type": "code",
   "execution_count": 47,
   "id": "284ff313-03d1-4146-afad-8540151c2178",
   "metadata": {},
   "outputs": [],
   "source": [
    "salon2 = Series(cars_dict, index=models)"
   ]
  },
  {
   "cell_type": "code",
   "execution_count": 48,
   "id": "d4916579-2d98-4dc2-b006-c0f56dae4824",
   "metadata": {},
   "outputs": [],
   "source": [
    "new_prices = Series({\"Honda\":5000, \"Mazda\":-3000, \"Malibu\":4500, \"Toyota\":5200, 'Lacetti':-1200})"
   ]
  },
  {
   "cell_type": "code",
   "execution_count": 49,
   "id": "e3964835-998e-4591-8bca-f7de1d281ca5",
   "metadata": {},
   "outputs": [
    {
     "data": {
      "text/plain": [
       "True"
      ]
     },
     "execution_count": 49,
     "metadata": {},
     "output_type": "execute_result"
    }
   ],
   "source": [
    "salon2.hasnans # NaN qiymatlar bor (True) yo'qligi (False)"
   ]
  },
  {
   "cell_type": "code",
   "execution_count": 51,
   "id": "82ecf60f-954a-46d3-81ba-95aad6aa915f",
   "metadata": {},
   "outputs": [
    {
     "data": {
      "text/plain": [
       "dtype('float64')"
      ]
     },
     "execution_count": 51,
     "metadata": {},
     "output_type": "execute_result"
    }
   ],
   "source": [
    "salon2.dtype # qiymatlarning ma'lumot turi"
   ]
  },
  {
   "cell_type": "code",
   "execution_count": 52,
   "id": "46154d11-8ef5-4637-96e2-30681b44c3f8",
   "metadata": {},
   "outputs": [
    {
     "data": {
      "text/plain": [
       "True"
      ]
     },
     "execution_count": 52,
     "metadata": {},
     "output_type": "execute_result"
    }
   ],
   "source": [
    "salon2.is_unique # qiymatlar takrorlanmas ekanini tekshirish"
   ]
  },
  {
   "cell_type": "code",
   "execution_count": 53,
   "id": "a70a2433-665d-4d55-934c-18c57d460563",
   "metadata": {},
   "outputs": [
    {
     "data": {
      "text/plain": [
       "(6,)"
      ]
     },
     "execution_count": 53,
     "metadata": {},
     "output_type": "execute_result"
    }
   ],
   "source": [
    "salon2.shape # Series hajmi"
   ]
  },
  {
   "cell_type": "code",
   "execution_count": 54,
   "id": "c820f6ca-46fc-4711-bb5f-34dac4a0fe1e",
   "metadata": {},
   "outputs": [
    {
     "data": {
      "text/plain": [
       "6"
      ]
     },
     "execution_count": 54,
     "metadata": {},
     "output_type": "execute_result"
    }
   ],
   "source": [
    "salon2.size # Series hajmi"
   ]
  },
  {
   "cell_type": "code",
   "execution_count": 55,
   "id": "a8727736-cdfa-40d6-841f-f6b862cceed4",
   "metadata": {},
   "outputs": [
    {
     "data": {
      "text/plain": [
       "20000.0"
      ]
     },
     "execution_count": 55,
     "metadata": {},
     "output_type": "execute_result"
    }
   ],
   "source": [
    "salon2.iloc[2] # ma'lumotlarga indeks tartib raqami bo'yicha murojaat qilish"
   ]
  },
  {
   "cell_type": "code",
   "execution_count": 56,
   "id": "97dcc0c9-4e6e-4574-833b-5f76a2936fad",
   "metadata": {},
   "outputs": [
    {
     "data": {
      "text/plain": [
       "38000.0"
      ]
     },
     "execution_count": 56,
     "metadata": {},
     "output_type": "execute_result"
    }
   ],
   "source": [
    "salon2['Honda'] # ma'lumotlarga indeks bo'yicha murojaat qilish"
   ]
  },
  {
   "cell_type": "code",
   "execution_count": 57,
   "id": "ff93f896-0056-4cdb-9dcd-b94817713074",
   "metadata": {},
   "outputs": [
    {
     "data": {
      "text/plain": [
       "45000.0"
      ]
     },
     "execution_count": 57,
     "metadata": {},
     "output_type": "execute_result"
    }
   ],
   "source": [
    "salon2.loc['Toyota'] # ma'lumotlarga indeks bo'yicha murojaat qilish"
   ]
  },
  {
   "cell_type": "code",
   "execution_count": 58,
   "id": "1259c908-9851-468d-b9f5-82f6408d3f67",
   "metadata": {},
   "outputs": [
    {
     "data": {
      "text/plain": [
       "52000.0"
      ]
     },
     "execution_count": 58,
     "metadata": {},
     "output_type": "execute_result"
    }
   ],
   "source": [
    "salon2.max() # max qiymat"
   ]
  },
  {
   "cell_type": "code",
   "execution_count": 59,
   "id": "058a2e39-71cf-4a1b-a1fe-db57b4b9bc39",
   "metadata": {},
   "outputs": [
    {
     "data": {
      "text/plain": [
       "20000.0"
      ]
     },
     "execution_count": 59,
     "metadata": {},
     "output_type": "execute_result"
    }
   ],
   "source": [
    "salon2.min() # min qiymat"
   ]
  },
  {
   "cell_type": "code",
   "execution_count": 60,
   "id": "cb6d3327-9f42-4411-98ef-38fa9d5f6f91",
   "metadata": {},
   "outputs": [
    {
     "data": {
      "text/plain": [
       "39000.0"
      ]
     },
     "execution_count": 60,
     "metadata": {},
     "output_type": "execute_result"
    }
   ],
   "source": [
    "salon2.mean() # o'rtacha qiymat"
   ]
  },
  {
   "cell_type": "code",
   "execution_count": null,
   "id": "d6a5a1b1-72e3-45e5-8c64-74fc0f017007",
   "metadata": {},
   "outputs": [],
   "source": []
  }
 ],
 "metadata": {
  "kernelspec": {
   "display_name": "Python 3 (ipykernel)",
   "language": "python",
   "name": "python3"
  },
  "language_info": {
   "codemirror_mode": {
    "name": "ipython",
    "version": 3
   },
   "file_extension": ".py",
   "mimetype": "text/x-python",
   "name": "python",
   "nbconvert_exporter": "python",
   "pygments_lexer": "ipython3",
   "version": "3.8.11"
  }
 },
 "nbformat": 4,
 "nbformat_minor": 5
}
