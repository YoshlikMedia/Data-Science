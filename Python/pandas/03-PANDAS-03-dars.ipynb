{
 "cells": [
  {
   "cell_type": "markdown",
   "id": "88e95a94-c3c2-4fe1-91b6-2b5c14bd51c9",
   "metadata": {},
   "source": [
    "![Imgur](https://i.imgur.com/5pXzCIu.png)\n",
    "\n",
    "# Data Science va Sun'iy Intellekt Praktikum\n",
    "\n",
    "## Ma'lumotlar tahlili. Pandas kutubxonasi.\n",
    "\n",
    "### 2.2.3 Foydali funksiyalar"
   ]
  },
  {
   "cell_type": "code",
   "execution_count": 1,
   "id": "3cefc603-f17c-4601-9c0b-68af75286d15",
   "metadata": {},
   "outputs": [],
   "source": [
    "import pandas as pd\n",
    "import numpy as np"
   ]
  },
  {
   "cell_type": "code",
   "execution_count": 2,
   "id": "7eb712b4-aef2-42e3-9474-c6d093ca60ce",
   "metadata": {},
   "outputs": [],
   "source": [
    "data = {'Yil':[2021, 2020, 2019, 2018, 2017, 2016, 2015, 2010],\n",
    "       'Aholi soni':[33.9, 33.5, 32.9, 32.5, 31.9, 31.4, 30.9, 28.5],\n",
    "       'Temp':[1.54, 1.48, 1.56, 1.62, 1.65, 1.66, 1.64, 1.53],\n",
    "       'Zichlik':[79.77, 78.68, 77.53, 76.34, 75.13, 73.91, 72.71, 67.03]}"
   ]
  },
  {
   "cell_type": "code",
   "execution_count": 3,
   "id": "af155004-0f48-4a8b-981f-131b1bd2114d",
   "metadata": {},
   "outputs": [],
   "source": [
    "df = pd.DataFrame(data)"
   ]
  },
  {
   "cell_type": "code",
   "execution_count": 4,
   "id": "c4563a82-879a-440d-92ff-dfdc40f3ca4e",
   "metadata": {},
   "outputs": [
    {
     "data": {
      "text/plain": "    Yil  Aholi soni  Temp  Zichlik\n0  2021        33.9  1.54    79.77\n1  2020        33.5  1.48    78.68\n2  2019        32.9  1.56    77.53\n3  2018        32.5  1.62    76.34\n4  2017        31.9  1.65    75.13\n5  2016        31.4  1.66    73.91\n6  2015        30.9  1.64    72.71\n7  2010        28.5  1.53    67.03",
      "text/html": "<div>\n<style scoped>\n    .dataframe tbody tr th:only-of-type {\n        vertical-align: middle;\n    }\n\n    .dataframe tbody tr th {\n        vertical-align: top;\n    }\n\n    .dataframe thead th {\n        text-align: right;\n    }\n</style>\n<table border=\"1\" class=\"dataframe\">\n  <thead>\n    <tr style=\"text-align: right;\">\n      <th></th>\n      <th>Yil</th>\n      <th>Aholi soni</th>\n      <th>Temp</th>\n      <th>Zichlik</th>\n    </tr>\n  </thead>\n  <tbody>\n    <tr>\n      <th>0</th>\n      <td>2021</td>\n      <td>33.9</td>\n      <td>1.54</td>\n      <td>79.77</td>\n    </tr>\n    <tr>\n      <th>1</th>\n      <td>2020</td>\n      <td>33.5</td>\n      <td>1.48</td>\n      <td>78.68</td>\n    </tr>\n    <tr>\n      <th>2</th>\n      <td>2019</td>\n      <td>32.9</td>\n      <td>1.56</td>\n      <td>77.53</td>\n    </tr>\n    <tr>\n      <th>3</th>\n      <td>2018</td>\n      <td>32.5</td>\n      <td>1.62</td>\n      <td>76.34</td>\n    </tr>\n    <tr>\n      <th>4</th>\n      <td>2017</td>\n      <td>31.9</td>\n      <td>1.65</td>\n      <td>75.13</td>\n    </tr>\n    <tr>\n      <th>5</th>\n      <td>2016</td>\n      <td>31.4</td>\n      <td>1.66</td>\n      <td>73.91</td>\n    </tr>\n    <tr>\n      <th>6</th>\n      <td>2015</td>\n      <td>30.9</td>\n      <td>1.64</td>\n      <td>72.71</td>\n    </tr>\n    <tr>\n      <th>7</th>\n      <td>2010</td>\n      <td>28.5</td>\n      <td>1.53</td>\n      <td>67.03</td>\n    </tr>\n  </tbody>\n</table>\n</div>"
     },
     "execution_count": 4,
     "metadata": {},
     "output_type": "execute_result"
    }
   ],
   "source": [
    "df"
   ]
  },
  {
   "cell_type": "code",
   "execution_count": 5,
   "id": "2e750eb9-819e-40db-bec8-c218ddf11f24",
   "metadata": {},
   "outputs": [
    {
     "data": {
      "text/plain": "     Yil  Aholi soni  Temp  Zichlik\n21  2021        33.9  1.54    79.77\n20  2020        33.5  1.48    78.68\n19  2019        32.9  1.56    77.53\n18  2018        32.5  1.62    76.34\n17  2017        31.9  1.65    75.13\n16  2016        31.4  1.66    73.91\n15  2015        30.9  1.64    72.71\n10  2010        28.5  1.53    67.03",
      "text/html": "<div>\n<style scoped>\n    .dataframe tbody tr th:only-of-type {\n        vertical-align: middle;\n    }\n\n    .dataframe tbody tr th {\n        vertical-align: top;\n    }\n\n    .dataframe thead th {\n        text-align: right;\n    }\n</style>\n<table border=\"1\" class=\"dataframe\">\n  <thead>\n    <tr style=\"text-align: right;\">\n      <th></th>\n      <th>Yil</th>\n      <th>Aholi soni</th>\n      <th>Temp</th>\n      <th>Zichlik</th>\n    </tr>\n  </thead>\n  <tbody>\n    <tr>\n      <th>21</th>\n      <td>2021</td>\n      <td>33.9</td>\n      <td>1.54</td>\n      <td>79.77</td>\n    </tr>\n    <tr>\n      <th>20</th>\n      <td>2020</td>\n      <td>33.5</td>\n      <td>1.48</td>\n      <td>78.68</td>\n    </tr>\n    <tr>\n      <th>19</th>\n      <td>2019</td>\n      <td>32.9</td>\n      <td>1.56</td>\n      <td>77.53</td>\n    </tr>\n    <tr>\n      <th>18</th>\n      <td>2018</td>\n      <td>32.5</td>\n      <td>1.62</td>\n      <td>76.34</td>\n    </tr>\n    <tr>\n      <th>17</th>\n      <td>2017</td>\n      <td>31.9</td>\n      <td>1.65</td>\n      <td>75.13</td>\n    </tr>\n    <tr>\n      <th>16</th>\n      <td>2016</td>\n      <td>31.4</td>\n      <td>1.66</td>\n      <td>73.91</td>\n    </tr>\n    <tr>\n      <th>15</th>\n      <td>2015</td>\n      <td>30.9</td>\n      <td>1.64</td>\n      <td>72.71</td>\n    </tr>\n    <tr>\n      <th>10</th>\n      <td>2010</td>\n      <td>28.5</td>\n      <td>1.53</td>\n      <td>67.03</td>\n    </tr>\n  </tbody>\n</table>\n</div>"
     },
     "execution_count": 5,
     "metadata": {},
     "output_type": "execute_result"
    }
   ],
   "source": [
    "df.index = [21, 20, 19, 18, 17, 16, 15, 10]\n",
    "df"
   ]
  },
  {
   "cell_type": "markdown",
   "id": "55a8167c-c233-4010-8aae-c39e65e146f2",
   "metadata": {},
   "source": [
    "## `.reindex()` indekslar o'rnini almashtirish"
   ]
  },
  {
   "cell_type": "code",
   "execution_count": 6,
   "id": "22a79c88-b2fb-4915-bf24-cec7d8f18a2f",
   "metadata": {},
   "outputs": [
    {
     "data": {
      "text/plain": "     Yil  Aholi soni  Temp  Zichlik\n10  2010        28.5  1.53    67.03\n15  2015        30.9  1.64    72.71\n20  2020        33.5  1.48    78.68",
      "text/html": "<div>\n<style scoped>\n    .dataframe tbody tr th:only-of-type {\n        vertical-align: middle;\n    }\n\n    .dataframe tbody tr th {\n        vertical-align: top;\n    }\n\n    .dataframe thead th {\n        text-align: right;\n    }\n</style>\n<table border=\"1\" class=\"dataframe\">\n  <thead>\n    <tr style=\"text-align: right;\">\n      <th></th>\n      <th>Yil</th>\n      <th>Aholi soni</th>\n      <th>Temp</th>\n      <th>Zichlik</th>\n    </tr>\n  </thead>\n  <tbody>\n    <tr>\n      <th>10</th>\n      <td>2010</td>\n      <td>28.5</td>\n      <td>1.53</td>\n      <td>67.03</td>\n    </tr>\n    <tr>\n      <th>15</th>\n      <td>2015</td>\n      <td>30.9</td>\n      <td>1.64</td>\n      <td>72.71</td>\n    </tr>\n    <tr>\n      <th>20</th>\n      <td>2020</td>\n      <td>33.5</td>\n      <td>1.48</td>\n      <td>78.68</td>\n    </tr>\n  </tbody>\n</table>\n</div>"
     },
     "execution_count": 6,
     "metadata": {},
     "output_type": "execute_result"
    }
   ],
   "source": [
    "df.reindex([10,15,20])"
   ]
  },
  {
   "cell_type": "markdown",
   "id": "dcf7aa95-0168-4cc0-b381-7ad289933ae7",
   "metadata": {},
   "source": [
    "`.reindex` yordamida yangi indekslar qo'shish va ularni turli usullar (method) yordamida to'ldirish ham mumkin"
   ]
  },
  {
   "cell_type": "code",
   "execution_count": 7,
   "id": "f10a8cf4-ebf0-49dc-9737-4d3077382bc1",
   "metadata": {},
   "outputs": [
    {
     "data": {
      "text/plain": "     Yil  Aholi soni  Temp  Zichlik\n10  2010        28.5  1.53    67.03\n11  2010        28.5  1.53    67.03\n12  2010        28.5  1.53    67.03\n13  2015        30.9  1.64    72.71\n14  2015        30.9  1.64    72.71\n15  2015        30.9  1.64    72.71\n16  2016        31.4  1.66    73.91\n17  2017        31.9  1.65    75.13\n18  2018        32.5  1.62    76.34\n19  2019        32.9  1.56    77.53\n20  2020        33.5  1.48    78.68\n21  2021        33.9  1.54    79.77",
      "text/html": "<div>\n<style scoped>\n    .dataframe tbody tr th:only-of-type {\n        vertical-align: middle;\n    }\n\n    .dataframe tbody tr th {\n        vertical-align: top;\n    }\n\n    .dataframe thead th {\n        text-align: right;\n    }\n</style>\n<table border=\"1\" class=\"dataframe\">\n  <thead>\n    <tr style=\"text-align: right;\">\n      <th></th>\n      <th>Yil</th>\n      <th>Aholi soni</th>\n      <th>Temp</th>\n      <th>Zichlik</th>\n    </tr>\n  </thead>\n  <tbody>\n    <tr>\n      <th>10</th>\n      <td>2010</td>\n      <td>28.5</td>\n      <td>1.53</td>\n      <td>67.03</td>\n    </tr>\n    <tr>\n      <th>11</th>\n      <td>2010</td>\n      <td>28.5</td>\n      <td>1.53</td>\n      <td>67.03</td>\n    </tr>\n    <tr>\n      <th>12</th>\n      <td>2010</td>\n      <td>28.5</td>\n      <td>1.53</td>\n      <td>67.03</td>\n    </tr>\n    <tr>\n      <th>13</th>\n      <td>2015</td>\n      <td>30.9</td>\n      <td>1.64</td>\n      <td>72.71</td>\n    </tr>\n    <tr>\n      <th>14</th>\n      <td>2015</td>\n      <td>30.9</td>\n      <td>1.64</td>\n      <td>72.71</td>\n    </tr>\n    <tr>\n      <th>15</th>\n      <td>2015</td>\n      <td>30.9</td>\n      <td>1.64</td>\n      <td>72.71</td>\n    </tr>\n    <tr>\n      <th>16</th>\n      <td>2016</td>\n      <td>31.4</td>\n      <td>1.66</td>\n      <td>73.91</td>\n    </tr>\n    <tr>\n      <th>17</th>\n      <td>2017</td>\n      <td>31.9</td>\n      <td>1.65</td>\n      <td>75.13</td>\n    </tr>\n    <tr>\n      <th>18</th>\n      <td>2018</td>\n      <td>32.5</td>\n      <td>1.62</td>\n      <td>76.34</td>\n    </tr>\n    <tr>\n      <th>19</th>\n      <td>2019</td>\n      <td>32.9</td>\n      <td>1.56</td>\n      <td>77.53</td>\n    </tr>\n    <tr>\n      <th>20</th>\n      <td>2020</td>\n      <td>33.5</td>\n      <td>1.48</td>\n      <td>78.68</td>\n    </tr>\n    <tr>\n      <th>21</th>\n      <td>2021</td>\n      <td>33.9</td>\n      <td>1.54</td>\n      <td>79.77</td>\n    </tr>\n  </tbody>\n</table>\n</div>"
     },
     "execution_count": 7,
     "metadata": {},
     "output_type": "execute_result"
    }
   ],
   "source": [
    "df.reindex(index=range(10,22), method=\"nearest\") # method='ffill'"
   ]
  },
  {
   "cell_type": "markdown",
   "id": "10d0dfc6-04ec-4cfb-bf5d-3609bb02878a",
   "metadata": {},
   "source": [
    "Nafaqat indekslarni balki ustunlarni ham qayta indekslash mumkin"
   ]
  },
  {
   "cell_type": "code",
   "execution_count": 8,
   "id": "f6f62df7-1041-4b41-ab14-2161dc6e2c60",
   "metadata": {},
   "outputs": [
    {
     "data": {
      "text/plain": "    Aholi soni  Temp\n21        33.9  1.54\n20        33.5  1.48\n19        32.9  1.56\n18        32.5  1.62\n17        31.9  1.65\n16        31.4  1.66\n15        30.9  1.64\n10        28.5  1.53",
      "text/html": "<div>\n<style scoped>\n    .dataframe tbody tr th:only-of-type {\n        vertical-align: middle;\n    }\n\n    .dataframe tbody tr th {\n        vertical-align: top;\n    }\n\n    .dataframe thead th {\n        text-align: right;\n    }\n</style>\n<table border=\"1\" class=\"dataframe\">\n  <thead>\n    <tr style=\"text-align: right;\">\n      <th></th>\n      <th>Aholi soni</th>\n      <th>Temp</th>\n    </tr>\n  </thead>\n  <tbody>\n    <tr>\n      <th>21</th>\n      <td>33.9</td>\n      <td>1.54</td>\n    </tr>\n    <tr>\n      <th>20</th>\n      <td>33.5</td>\n      <td>1.48</td>\n    </tr>\n    <tr>\n      <th>19</th>\n      <td>32.9</td>\n      <td>1.56</td>\n    </tr>\n    <tr>\n      <th>18</th>\n      <td>32.5</td>\n      <td>1.62</td>\n    </tr>\n    <tr>\n      <th>17</th>\n      <td>31.9</td>\n      <td>1.65</td>\n    </tr>\n    <tr>\n      <th>16</th>\n      <td>31.4</td>\n      <td>1.66</td>\n    </tr>\n    <tr>\n      <th>15</th>\n      <td>30.9</td>\n      <td>1.64</td>\n    </tr>\n    <tr>\n      <th>10</th>\n      <td>28.5</td>\n      <td>1.53</td>\n    </tr>\n  </tbody>\n</table>\n</div>"
     },
     "execution_count": 8,
     "metadata": {},
     "output_type": "execute_result"
    }
   ],
   "source": [
    "df.reindex(columns=['Aholi soni','Temp'])"
   ]
  },
  {
   "cell_type": "markdown",
   "id": "187a9f6b-06c2-430d-bb90-2224f07e98b4",
   "metadata": {},
   "source": [
    "### `.loc` yordamida indekslash"
   ]
  },
  {
   "cell_type": "code",
   "execution_count": 9,
   "id": "e2f3e884-3724-49da-ba2f-f3e5c358abc1",
   "metadata": {},
   "outputs": [
    {
     "data": {
      "text/plain": "    Aholi soni  Temp\n10        28.5  1.53\n15        30.9  1.64\n20        33.5  1.48",
      "text/html": "<div>\n<style scoped>\n    .dataframe tbody tr th:only-of-type {\n        vertical-align: middle;\n    }\n\n    .dataframe tbody tr th {\n        vertical-align: top;\n    }\n\n    .dataframe thead th {\n        text-align: right;\n    }\n</style>\n<table border=\"1\" class=\"dataframe\">\n  <thead>\n    <tr style=\"text-align: right;\">\n      <th></th>\n      <th>Aholi soni</th>\n      <th>Temp</th>\n    </tr>\n  </thead>\n  <tbody>\n    <tr>\n      <th>10</th>\n      <td>28.5</td>\n      <td>1.53</td>\n    </tr>\n    <tr>\n      <th>15</th>\n      <td>30.9</td>\n      <td>1.64</td>\n    </tr>\n    <tr>\n      <th>20</th>\n      <td>33.5</td>\n      <td>1.48</td>\n    </tr>\n  </tbody>\n</table>\n</div>"
     },
     "execution_count": 9,
     "metadata": {},
     "output_type": "execute_result"
    }
   ],
   "source": [
    "df.loc[[10,15,20],['Aholi soni','Temp']]"
   ]
  },
  {
   "cell_type": "markdown",
   "id": "ae89dc3a-f6df-436a-8845-dbaaab0a4046",
   "metadata": {},
   "source": [
    "**DIQQAT! DataFrame metodlati asl DataFrameni o'zgartirmaydi, balki yangi (o'zgartirilgan) DataFrame qaytaradi.**"
   ]
  },
  {
   "cell_type": "markdown",
   "id": "ab8ddc77-7dea-484b-9546-e91ebc939796",
   "metadata": {},
   "source": [
    "## `DataFrame`dan elementlarni o'chirish. `.drop()`"
   ]
  },
  {
   "cell_type": "markdown",
   "id": "ebb43ef4-201d-4dce-b0db-df1ec2d93ffe",
   "metadata": {},
   "source": [
    "Dataframedan biror qator yoki ustunni o'chirish uchun qator (ustun) indeksini bilish kifoya."
   ]
  },
  {
   "cell_type": "code",
   "execution_count": 10,
   "id": "1f298948-b145-4516-b023-9f784bc5d232",
   "metadata": {},
   "outputs": [
    {
     "data": {
      "text/plain": "     Yil  Aholi soni  Temp  Zichlik\n21  2021        33.9  1.54    79.77\n20  2020        33.5  1.48    78.68\n19  2019        32.9  1.56    77.53\n18  2018        32.5  1.62    76.34\n17  2017        31.9  1.65    75.13\n16  2016        31.4  1.66    73.91\n15  2015        30.9  1.64    72.71\n10  2010        28.5  1.53    67.03",
      "text/html": "<div>\n<style scoped>\n    .dataframe tbody tr th:only-of-type {\n        vertical-align: middle;\n    }\n\n    .dataframe tbody tr th {\n        vertical-align: top;\n    }\n\n    .dataframe thead th {\n        text-align: right;\n    }\n</style>\n<table border=\"1\" class=\"dataframe\">\n  <thead>\n    <tr style=\"text-align: right;\">\n      <th></th>\n      <th>Yil</th>\n      <th>Aholi soni</th>\n      <th>Temp</th>\n      <th>Zichlik</th>\n    </tr>\n  </thead>\n  <tbody>\n    <tr>\n      <th>21</th>\n      <td>2021</td>\n      <td>33.9</td>\n      <td>1.54</td>\n      <td>79.77</td>\n    </tr>\n    <tr>\n      <th>20</th>\n      <td>2020</td>\n      <td>33.5</td>\n      <td>1.48</td>\n      <td>78.68</td>\n    </tr>\n    <tr>\n      <th>19</th>\n      <td>2019</td>\n      <td>32.9</td>\n      <td>1.56</td>\n      <td>77.53</td>\n    </tr>\n    <tr>\n      <th>18</th>\n      <td>2018</td>\n      <td>32.5</td>\n      <td>1.62</td>\n      <td>76.34</td>\n    </tr>\n    <tr>\n      <th>17</th>\n      <td>2017</td>\n      <td>31.9</td>\n      <td>1.65</td>\n      <td>75.13</td>\n    </tr>\n    <tr>\n      <th>16</th>\n      <td>2016</td>\n      <td>31.4</td>\n      <td>1.66</td>\n      <td>73.91</td>\n    </tr>\n    <tr>\n      <th>15</th>\n      <td>2015</td>\n      <td>30.9</td>\n      <td>1.64</td>\n      <td>72.71</td>\n    </tr>\n    <tr>\n      <th>10</th>\n      <td>2010</td>\n      <td>28.5</td>\n      <td>1.53</td>\n      <td>67.03</td>\n    </tr>\n  </tbody>\n</table>\n</div>"
     },
     "execution_count": 10,
     "metadata": {},
     "output_type": "execute_result"
    }
   ],
   "source": [
    "df"
   ]
  },
  {
   "cell_type": "code",
   "execution_count": 11,
   "id": "dc003016-1582-4f5f-b5e1-cdc4f4da66eb",
   "metadata": {},
   "outputs": [],
   "source": [
    "df_new = df.drop(10) # 10 indeksini o'chiramiz va yangi df yaratamiz"
   ]
  },
  {
   "cell_type": "code",
   "execution_count": 12,
   "id": "e4c25fd4-d719-4e20-8090-98ac37db944d",
   "metadata": {},
   "outputs": [
    {
     "data": {
      "text/plain": "     Yil  Aholi soni  Temp  Zichlik\n21  2021        33.9  1.54    79.77\n20  2020        33.5  1.48    78.68\n19  2019        32.9  1.56    77.53\n18  2018        32.5  1.62    76.34\n17  2017        31.9  1.65    75.13\n16  2016        31.4  1.66    73.91\n15  2015        30.9  1.64    72.71",
      "text/html": "<div>\n<style scoped>\n    .dataframe tbody tr th:only-of-type {\n        vertical-align: middle;\n    }\n\n    .dataframe tbody tr th {\n        vertical-align: top;\n    }\n\n    .dataframe thead th {\n        text-align: right;\n    }\n</style>\n<table border=\"1\" class=\"dataframe\">\n  <thead>\n    <tr style=\"text-align: right;\">\n      <th></th>\n      <th>Yil</th>\n      <th>Aholi soni</th>\n      <th>Temp</th>\n      <th>Zichlik</th>\n    </tr>\n  </thead>\n  <tbody>\n    <tr>\n      <th>21</th>\n      <td>2021</td>\n      <td>33.9</td>\n      <td>1.54</td>\n      <td>79.77</td>\n    </tr>\n    <tr>\n      <th>20</th>\n      <td>2020</td>\n      <td>33.5</td>\n      <td>1.48</td>\n      <td>78.68</td>\n    </tr>\n    <tr>\n      <th>19</th>\n      <td>2019</td>\n      <td>32.9</td>\n      <td>1.56</td>\n      <td>77.53</td>\n    </tr>\n    <tr>\n      <th>18</th>\n      <td>2018</td>\n      <td>32.5</td>\n      <td>1.62</td>\n      <td>76.34</td>\n    </tr>\n    <tr>\n      <th>17</th>\n      <td>2017</td>\n      <td>31.9</td>\n      <td>1.65</td>\n      <td>75.13</td>\n    </tr>\n    <tr>\n      <th>16</th>\n      <td>2016</td>\n      <td>31.4</td>\n      <td>1.66</td>\n      <td>73.91</td>\n    </tr>\n    <tr>\n      <th>15</th>\n      <td>2015</td>\n      <td>30.9</td>\n      <td>1.64</td>\n      <td>72.71</td>\n    </tr>\n  </tbody>\n</table>\n</div>"
     },
     "execution_count": 12,
     "metadata": {},
     "output_type": "execute_result"
    }
   ],
   "source": [
    "df_new"
   ]
  },
  {
   "cell_type": "code",
   "execution_count": 13,
   "id": "7a751e47-1ccf-4db8-a0e9-443d776403d9",
   "metadata": {},
   "outputs": [
    {
     "data": {
      "text/plain": "     Yil  Aholi soni  Temp  Zichlik\n21  2021        33.9  1.54    79.77\n19  2019        32.9  1.56    77.53\n18  2018        32.5  1.62    76.34\n17  2017        31.9  1.65    75.13\n16  2016        31.4  1.66    73.91\n10  2010        28.5  1.53    67.03",
      "text/html": "<div>\n<style scoped>\n    .dataframe tbody tr th:only-of-type {\n        vertical-align: middle;\n    }\n\n    .dataframe tbody tr th {\n        vertical-align: top;\n    }\n\n    .dataframe thead th {\n        text-align: right;\n    }\n</style>\n<table border=\"1\" class=\"dataframe\">\n  <thead>\n    <tr style=\"text-align: right;\">\n      <th></th>\n      <th>Yil</th>\n      <th>Aholi soni</th>\n      <th>Temp</th>\n      <th>Zichlik</th>\n    </tr>\n  </thead>\n  <tbody>\n    <tr>\n      <th>21</th>\n      <td>2021</td>\n      <td>33.9</td>\n      <td>1.54</td>\n      <td>79.77</td>\n    </tr>\n    <tr>\n      <th>19</th>\n      <td>2019</td>\n      <td>32.9</td>\n      <td>1.56</td>\n      <td>77.53</td>\n    </tr>\n    <tr>\n      <th>18</th>\n      <td>2018</td>\n      <td>32.5</td>\n      <td>1.62</td>\n      <td>76.34</td>\n    </tr>\n    <tr>\n      <th>17</th>\n      <td>2017</td>\n      <td>31.9</td>\n      <td>1.65</td>\n      <td>75.13</td>\n    </tr>\n    <tr>\n      <th>16</th>\n      <td>2016</td>\n      <td>31.4</td>\n      <td>1.66</td>\n      <td>73.91</td>\n    </tr>\n    <tr>\n      <th>10</th>\n      <td>2010</td>\n      <td>28.5</td>\n      <td>1.53</td>\n      <td>67.03</td>\n    </tr>\n  </tbody>\n</table>\n</div>"
     },
     "execution_count": 13,
     "metadata": {},
     "output_type": "execute_result"
    }
   ],
   "source": [
    "df.drop([15, 20]) # 15 va 20 qatorlarini tashlab yuboramiz"
   ]
  },
  {
   "cell_type": "markdown",
   "id": "08847561-8154-474d-bc0e-06b9ad333bda",
   "metadata": {},
   "source": [
    "`.drop()` yordamida nafaqat qatorlarni, balki ustunlarni ham o'chirish mumkin. Buning `.drop()` metodining `axis` parametri ishlatiladi."
   ]
  },
  {
   "cell_type": "code",
   "execution_count": 14,
   "id": "c616f252-ea54-46ad-bf27-c713b639677e",
   "metadata": {},
   "outputs": [
    {
     "data": {
      "text/plain": "     Yil  Aholi soni  Zichlik\n21  2021        33.9    79.77\n20  2020        33.5    78.68\n19  2019        32.9    77.53\n18  2018        32.5    76.34\n17  2017        31.9    75.13\n16  2016        31.4    73.91\n15  2015        30.9    72.71\n10  2010        28.5    67.03",
      "text/html": "<div>\n<style scoped>\n    .dataframe tbody tr th:only-of-type {\n        vertical-align: middle;\n    }\n\n    .dataframe tbody tr th {\n        vertical-align: top;\n    }\n\n    .dataframe thead th {\n        text-align: right;\n    }\n</style>\n<table border=\"1\" class=\"dataframe\">\n  <thead>\n    <tr style=\"text-align: right;\">\n      <th></th>\n      <th>Yil</th>\n      <th>Aholi soni</th>\n      <th>Zichlik</th>\n    </tr>\n  </thead>\n  <tbody>\n    <tr>\n      <th>21</th>\n      <td>2021</td>\n      <td>33.9</td>\n      <td>79.77</td>\n    </tr>\n    <tr>\n      <th>20</th>\n      <td>2020</td>\n      <td>33.5</td>\n      <td>78.68</td>\n    </tr>\n    <tr>\n      <th>19</th>\n      <td>2019</td>\n      <td>32.9</td>\n      <td>77.53</td>\n    </tr>\n    <tr>\n      <th>18</th>\n      <td>2018</td>\n      <td>32.5</td>\n      <td>76.34</td>\n    </tr>\n    <tr>\n      <th>17</th>\n      <td>2017</td>\n      <td>31.9</td>\n      <td>75.13</td>\n    </tr>\n    <tr>\n      <th>16</th>\n      <td>2016</td>\n      <td>31.4</td>\n      <td>73.91</td>\n    </tr>\n    <tr>\n      <th>15</th>\n      <td>2015</td>\n      <td>30.9</td>\n      <td>72.71</td>\n    </tr>\n    <tr>\n      <th>10</th>\n      <td>2010</td>\n      <td>28.5</td>\n      <td>67.03</td>\n    </tr>\n  </tbody>\n</table>\n</div>"
     },
     "execution_count": 14,
     "metadata": {},
     "output_type": "execute_result"
    }
   ],
   "source": [
    "df.drop('Temp', axis=1) # axis=1 ustunni anglatadi, axis=0 esa qatorni"
   ]
  },
  {
   "cell_type": "code",
   "execution_count": 15,
   "id": "8c59e58e-16aa-432b-8e89-62eed17525ea",
   "metadata": {},
   "outputs": [
    {
     "data": {
      "text/plain": "     Yil  Aholi soni  Zichlik\n21  2021        33.9    79.77\n20  2020        33.5    78.68\n19  2019        32.9    77.53\n18  2018        32.5    76.34\n17  2017        31.9    75.13\n16  2016        31.4    73.91\n15  2015        30.9    72.71\n10  2010        28.5    67.03",
      "text/html": "<div>\n<style scoped>\n    .dataframe tbody tr th:only-of-type {\n        vertical-align: middle;\n    }\n\n    .dataframe tbody tr th {\n        vertical-align: top;\n    }\n\n    .dataframe thead th {\n        text-align: right;\n    }\n</style>\n<table border=\"1\" class=\"dataframe\">\n  <thead>\n    <tr style=\"text-align: right;\">\n      <th></th>\n      <th>Yil</th>\n      <th>Aholi soni</th>\n      <th>Zichlik</th>\n    </tr>\n  </thead>\n  <tbody>\n    <tr>\n      <th>21</th>\n      <td>2021</td>\n      <td>33.9</td>\n      <td>79.77</td>\n    </tr>\n    <tr>\n      <th>20</th>\n      <td>2020</td>\n      <td>33.5</td>\n      <td>78.68</td>\n    </tr>\n    <tr>\n      <th>19</th>\n      <td>2019</td>\n      <td>32.9</td>\n      <td>77.53</td>\n    </tr>\n    <tr>\n      <th>18</th>\n      <td>2018</td>\n      <td>32.5</td>\n      <td>76.34</td>\n    </tr>\n    <tr>\n      <th>17</th>\n      <td>2017</td>\n      <td>31.9</td>\n      <td>75.13</td>\n    </tr>\n    <tr>\n      <th>16</th>\n      <td>2016</td>\n      <td>31.4</td>\n      <td>73.91</td>\n    </tr>\n    <tr>\n      <th>15</th>\n      <td>2015</td>\n      <td>30.9</td>\n      <td>72.71</td>\n    </tr>\n    <tr>\n      <th>10</th>\n      <td>2010</td>\n      <td>28.5</td>\n      <td>67.03</td>\n    </tr>\n  </tbody>\n</table>\n</div>"
     },
     "execution_count": 15,
     "metadata": {},
     "output_type": "execute_result"
    }
   ],
   "source": [
    "df.drop('Temp', axis='columns') # bu usul ham yuqoridagi natijani beradi"
   ]
  },
  {
   "cell_type": "markdown",
   "id": "d3d8048f-5433-417d-a54b-6992e6ca0f25",
   "metadata": {},
   "source": [
    "Yana bir bor eslatamiz, metodlar asl `DataFrame`ni o'zgartirmaydi. "
   ]
  },
  {
   "cell_type": "code",
   "execution_count": 16,
   "id": "67f3eb26-c18c-467f-afb0-b6df30b84c5d",
   "metadata": {},
   "outputs": [
    {
     "data": {
      "text/plain": "     Yil  Aholi soni  Temp  Zichlik\n21  2021        33.9  1.54    79.77\n20  2020        33.5  1.48    78.68\n19  2019        32.9  1.56    77.53\n18  2018        32.5  1.62    76.34\n17  2017        31.9  1.65    75.13\n16  2016        31.4  1.66    73.91\n15  2015        30.9  1.64    72.71\n10  2010        28.5  1.53    67.03",
      "text/html": "<div>\n<style scoped>\n    .dataframe tbody tr th:only-of-type {\n        vertical-align: middle;\n    }\n\n    .dataframe tbody tr th {\n        vertical-align: top;\n    }\n\n    .dataframe thead th {\n        text-align: right;\n    }\n</style>\n<table border=\"1\" class=\"dataframe\">\n  <thead>\n    <tr style=\"text-align: right;\">\n      <th></th>\n      <th>Yil</th>\n      <th>Aholi soni</th>\n      <th>Temp</th>\n      <th>Zichlik</th>\n    </tr>\n  </thead>\n  <tbody>\n    <tr>\n      <th>21</th>\n      <td>2021</td>\n      <td>33.9</td>\n      <td>1.54</td>\n      <td>79.77</td>\n    </tr>\n    <tr>\n      <th>20</th>\n      <td>2020</td>\n      <td>33.5</td>\n      <td>1.48</td>\n      <td>78.68</td>\n    </tr>\n    <tr>\n      <th>19</th>\n      <td>2019</td>\n      <td>32.9</td>\n      <td>1.56</td>\n      <td>77.53</td>\n    </tr>\n    <tr>\n      <th>18</th>\n      <td>2018</td>\n      <td>32.5</td>\n      <td>1.62</td>\n      <td>76.34</td>\n    </tr>\n    <tr>\n      <th>17</th>\n      <td>2017</td>\n      <td>31.9</td>\n      <td>1.65</td>\n      <td>75.13</td>\n    </tr>\n    <tr>\n      <th>16</th>\n      <td>2016</td>\n      <td>31.4</td>\n      <td>1.66</td>\n      <td>73.91</td>\n    </tr>\n    <tr>\n      <th>15</th>\n      <td>2015</td>\n      <td>30.9</td>\n      <td>1.64</td>\n      <td>72.71</td>\n    </tr>\n    <tr>\n      <th>10</th>\n      <td>2010</td>\n      <td>28.5</td>\n      <td>1.53</td>\n      <td>67.03</td>\n    </tr>\n  </tbody>\n</table>\n</div>"
     },
     "execution_count": 16,
     "metadata": {},
     "output_type": "execute_result"
    }
   ],
   "source": [
    "df"
   ]
  },
  {
   "cell_type": "markdown",
   "id": "92a8534f-d9f1-41d7-abc1-92579edcf3ae",
   "metadata": {},
   "source": [
    "Lekin buning ham imkoni bor. Odatda `.drop()` kabi metodlar maxsus `inplace` parametri bilan keladi va bu parametr standart `False` qiymatga ega bo'ladi (`inplace=False`)"
   ]
  },
  {
   "cell_type": "code",
   "execution_count": 17,
   "id": "9ffb7001-1e1e-4311-a5fa-1986dffdd48a",
   "metadata": {},
   "outputs": [],
   "source": [
    "df.drop('Yil', axis=1, inplace=True)"
   ]
  },
  {
   "cell_type": "code",
   "execution_count": 18,
   "id": "8bb04263-c595-4c82-bddd-e8244df693e9",
   "metadata": {},
   "outputs": [
    {
     "data": {
      "text/plain": "    Aholi soni  Temp  Zichlik\n21        33.9  1.54    79.77\n20        33.5  1.48    78.68\n19        32.9  1.56    77.53\n18        32.5  1.62    76.34\n17        31.9  1.65    75.13",
      "text/html": "<div>\n<style scoped>\n    .dataframe tbody tr th:only-of-type {\n        vertical-align: middle;\n    }\n\n    .dataframe tbody tr th {\n        vertical-align: top;\n    }\n\n    .dataframe thead th {\n        text-align: right;\n    }\n</style>\n<table border=\"1\" class=\"dataframe\">\n  <thead>\n    <tr style=\"text-align: right;\">\n      <th></th>\n      <th>Aholi soni</th>\n      <th>Temp</th>\n      <th>Zichlik</th>\n    </tr>\n  </thead>\n  <tbody>\n    <tr>\n      <th>21</th>\n      <td>33.9</td>\n      <td>1.54</td>\n      <td>79.77</td>\n    </tr>\n    <tr>\n      <th>20</th>\n      <td>33.5</td>\n      <td>1.48</td>\n      <td>78.68</td>\n    </tr>\n    <tr>\n      <th>19</th>\n      <td>32.9</td>\n      <td>1.56</td>\n      <td>77.53</td>\n    </tr>\n    <tr>\n      <th>18</th>\n      <td>32.5</td>\n      <td>1.62</td>\n      <td>76.34</td>\n    </tr>\n    <tr>\n      <th>17</th>\n      <td>31.9</td>\n      <td>1.65</td>\n      <td>75.13</td>\n    </tr>\n  </tbody>\n</table>\n</div>"
     },
     "execution_count": 18,
     "metadata": {},
     "output_type": "execute_result"
    }
   ],
   "source": [
    "df.head() # E'tibot bering endi Yil ustini yo'q"
   ]
  },
  {
   "cell_type": "markdown",
   "id": "d2182c59-d79f-4ba6-b95f-a140d2be53f6",
   "metadata": {},
   "source": [
    "### Indekslash, qator (ustun) tanlash, filtrlash"
   ]
  },
  {
   "cell_type": "markdown",
   "id": "b20cc664-904f-4be7-adc1-7e1ce8a6af93",
   "metadata": {},
   "source": [
    "### `Series`"
   ]
  },
  {
   "cell_type": "code",
   "execution_count": 19,
   "id": "ff6e3278-cdde-47c9-8a3e-0450b5037bce",
   "metadata": {},
   "outputs": [],
   "source": [
    "data = df['Aholi soni'] # Series obyekt yaratib olamiz"
   ]
  },
  {
   "cell_type": "code",
   "execution_count": 20,
   "id": "956d90ee-5a08-45e7-a912-d94299119394",
   "metadata": {},
   "outputs": [
    {
     "data": {
      "text/plain": "21    33.9\n20    33.5\n19    32.9\n18    32.5\n17    31.9\n16    31.4\n15    30.9\n10    28.5\nName: Aholi soni, dtype: float64"
     },
     "execution_count": 20,
     "metadata": {},
     "output_type": "execute_result"
    }
   ],
   "source": [
    "data"
   ]
  },
  {
   "cell_type": "code",
   "execution_count": 21,
   "id": "9b1d87ce-47fe-4929-9b32-da0be97bcea4",
   "metadata": {},
   "outputs": [
    {
     "data": {
      "text/plain": "21    33.9\n20    33.5\nName: Aholi soni, dtype: float64"
     },
     "execution_count": 21,
     "metadata": {},
     "output_type": "execute_result"
    }
   ],
   "source": [
    "data[0:2] # 0 va 1 elementlar qaytadi"
   ]
  },
  {
   "cell_type": "code",
   "execution_count": 22,
   "id": "4056caae-2153-42fc-bb84-d66c0e37352f",
   "metadata": {},
   "outputs": [
    {
     "data": {
      "text/plain": "21    33.9\nName: Aholi soni, dtype: float64"
     },
     "execution_count": 22,
     "metadata": {},
     "output_type": "execute_result"
    }
   ],
   "source": [
    "data[[21]]"
   ]
  },
  {
   "cell_type": "code",
   "execution_count": 23,
   "id": "d626f976-1dfa-4ae0-ad41-214de396ece4",
   "metadata": {},
   "outputs": [
    {
     "data": {
      "text/plain": "21    33.9\n19    32.9\n17    31.9\nName: Aholi soni, dtype: float64"
     },
     "execution_count": 23,
     "metadata": {},
     "output_type": "execute_result"
    }
   ],
   "source": [
    "data[[21,19,17]]"
   ]
  },
  {
   "cell_type": "code",
   "execution_count": 24,
   "id": "43cf9c97-db9c-4689-846c-d7d8ce94c736",
   "metadata": {},
   "outputs": [],
   "source": [
    "obj = pd.Series(np.arange(8.), index=['a', 'b', 'c', 'd', 'e', 'f', 'g', 'h'])"
   ]
  },
  {
   "cell_type": "code",
   "execution_count": 25,
   "id": "df706520-9321-4a63-8642-c31db9a3b691",
   "metadata": {},
   "outputs": [
    {
     "data": {
      "text/plain": "a    0.0\nb    1.0\nc    2.0\nd    3.0\ne    4.0\nf    5.0\ng    6.0\nh    7.0\ndtype: float64"
     },
     "execution_count": 25,
     "metadata": {},
     "output_type": "execute_result"
    }
   ],
   "source": [
    "obj"
   ]
  },
  {
   "cell_type": "code",
   "execution_count": 26,
   "id": "29392541-c8d7-4575-b460-ac3e4f440712",
   "metadata": {},
   "outputs": [
    {
     "data": {
      "text/plain": "b    1.0\ndtype: float64"
     },
     "execution_count": 26,
     "metadata": {},
     "output_type": "execute_result"
    }
   ],
   "source": [
    "obj[['b']]"
   ]
  },
  {
   "cell_type": "code",
   "execution_count": 27,
   "id": "d171debb-464c-4bc5-a30a-e720aae0b840",
   "metadata": {},
   "outputs": [
    {
     "data": {
      "text/plain": "pandas.core.series.Series"
     },
     "execution_count": 27,
     "metadata": {},
     "output_type": "execute_result"
    }
   ],
   "source": [
    "type(obj[['b']])"
   ]
  },
  {
   "cell_type": "code",
   "execution_count": 28,
   "id": "ed0c80e5-0fa6-4f14-acce-9b2b2b10b934",
   "metadata": {},
   "outputs": [
    {
     "data": {
      "text/plain": "1.0"
     },
     "execution_count": 28,
     "metadata": {},
     "output_type": "execute_result"
    }
   ],
   "source": [
    "obj['b']"
   ]
  },
  {
   "cell_type": "code",
   "execution_count": 29,
   "id": "8a70d977-fcc4-4f5d-a7b7-cf029eb06db5",
   "metadata": {},
   "outputs": [
    {
     "data": {
      "text/plain": "numpy.float64"
     },
     "execution_count": 29,
     "metadata": {},
     "output_type": "execute_result"
    }
   ],
   "source": [
    "type(obj['b'])"
   ]
  },
  {
   "cell_type": "code",
   "execution_count": 30,
   "id": "44d5cf75-9375-4e0a-881d-395e89c5ebf4",
   "metadata": {},
   "outputs": [
    {
     "data": {
      "text/plain": "a    0.0\nb    1.0\nc    2.0\nd    3.0\ndtype: float64"
     },
     "execution_count": 30,
     "metadata": {},
     "output_type": "execute_result"
    }
   ],
   "source": [
    "obj[0:4] # 0,1,2,3 indeksdagi qiymatlar 4 kirmaydi"
   ]
  },
  {
   "cell_type": "code",
   "execution_count": 31,
   "id": "6a5a5eb5-6962-4a68-8770-a359f69a086c",
   "metadata": {},
   "outputs": [
    {
     "data": {
      "text/plain": "a    0.0\nb    1.0\nc    2.0\nd    3.0\ne    4.0\nf    5.0\ndtype: float64"
     },
     "execution_count": 31,
     "metadata": {},
     "output_type": "execute_result"
    }
   ],
   "source": [
    "obj['a':'f'] # a,b,c,d,e,f chiqadi. "
   ]
  },
  {
   "cell_type": "code",
   "execution_count": 32,
   "id": "756f4708-3cb2-437d-96a7-75a8592b519d",
   "metadata": {},
   "outputs": [
    {
     "data": {
      "text/plain": "c    2.0\nd    3.0\nf    5.0\ndtype: float64"
     },
     "execution_count": 32,
     "metadata": {},
     "output_type": "execute_result"
    }
   ],
   "source": [
    "obj[['c','d','f']]"
   ]
  },
  {
   "cell_type": "code",
   "execution_count": 33,
   "id": "b6be64df-930e-4f5c-bb0c-0a2d5b931096",
   "metadata": {},
   "outputs": [
    {
     "data": {
      "text/plain": "b    1.0\nf    5.0\ndtype: float64"
     },
     "execution_count": 33,
     "metadata": {},
     "output_type": "execute_result"
    }
   ],
   "source": [
    "obj[[1,5]]"
   ]
  },
  {
   "cell_type": "code",
   "execution_count": 34,
   "id": "646d7084-05ab-4efe-a65f-1d0e671c6d8c",
   "metadata": {},
   "outputs": [],
   "source": [
    "obj['a':'d']=22"
   ]
  },
  {
   "cell_type": "code",
   "execution_count": 35,
   "id": "051761d2-35f4-4891-9c73-5cba248b13f9",
   "metadata": {},
   "outputs": [
    {
     "data": {
      "text/plain": "a    22.0\nb    22.0\nc    22.0\nd    22.0\ne     4.0\nf     5.0\ng     6.0\nh     7.0\ndtype: float64"
     },
     "execution_count": 35,
     "metadata": {},
     "output_type": "execute_result"
    }
   ],
   "source": [
    "obj"
   ]
  },
  {
   "cell_type": "code",
   "execution_count": 36,
   "id": "66c684d6-035d-4a77-b786-99e585505323",
   "metadata": {},
   "outputs": [
    {
     "data": {
      "text/plain": "a    22.0\nb    22.0\nc    22.0\nd    22.0\ndtype: float64"
     },
     "execution_count": 36,
     "metadata": {},
     "output_type": "execute_result"
    }
   ],
   "source": [
    "obj[obj==22]"
   ]
  },
  {
   "cell_type": "code",
   "execution_count": 37,
   "id": "52a9f552-d4b7-4b4a-87af-66edc14d6b9a",
   "metadata": {},
   "outputs": [
    {
     "data": {
      "text/plain": "e    4.0\nf    5.0\ng    6.0\nh    7.0\ndtype: float64"
     },
     "execution_count": 37,
     "metadata": {},
     "output_type": "execute_result"
    }
   ],
   "source": [
    "obj[obj<22]"
   ]
  },
  {
   "cell_type": "markdown",
   "id": "691dae59-72db-4076-990d-44b20aea9fa9",
   "metadata": {},
   "source": [
    "### `DataFrame`"
   ]
  },
  {
   "cell_type": "code",
   "execution_count": 38,
   "id": "e42daf71-f2fc-4554-9e56-d26091b2e97b",
   "metadata": {},
   "outputs": [],
   "source": [
    "uz = {2020:33.5, 2019:32.9, 2018:32.5, 2017:31.9, 2016:31.4, 2015:30.9}\n",
    "kz = {2020:18.8, 2019:18.5, 2018:18.3, 2017:18.1, 2016:17.8, 2015:17.6}\n",
    "tj = {2020:9.5, 2019:9.3, 2018:9.1, 2017:8.9, 2016:8.7, 2015:8.5}\n",
    "kg = {2020:6.5, 2019:6.4, 2018:6.3, 2017:6.2, 2016:6.1, 2015:6.0}\n",
    "tr = {2020:6.0, 2019:5.9, 2018:5.9, 2017:5.8, 2016:5.6, 2015:5.6}\n",
    "\n",
    "df = pd.DataFrame(\n",
    "    {'Uzbekistan':uz,\n",
    "     'Kazakhstan':kz,\n",
    "     'Tajikistan':tj,\n",
    "     'Kyrgizstan':kg,\n",
    "     'Turkmenistan':tr\n",
    "    }\n",
    ")"
   ]
  },
  {
   "cell_type": "code",
   "execution_count": 39,
   "id": "ffd287c9-62f9-4374-a1a0-33648a0a37be",
   "metadata": {},
   "outputs": [
    {
     "data": {
      "text/plain": "      Uzbekistan  Kazakhstan  Tajikistan  Kyrgizstan  Turkmenistan\n2020        33.5        18.8         9.5         6.5           6.0\n2019        32.9        18.5         9.3         6.4           5.9\n2018        32.5        18.3         9.1         6.3           5.9\n2017        31.9        18.1         8.9         6.2           5.8\n2016        31.4        17.8         8.7         6.1           5.6\n2015        30.9        17.6         8.5         6.0           5.6",
      "text/html": "<div>\n<style scoped>\n    .dataframe tbody tr th:only-of-type {\n        vertical-align: middle;\n    }\n\n    .dataframe tbody tr th {\n        vertical-align: top;\n    }\n\n    .dataframe thead th {\n        text-align: right;\n    }\n</style>\n<table border=\"1\" class=\"dataframe\">\n  <thead>\n    <tr style=\"text-align: right;\">\n      <th></th>\n      <th>Uzbekistan</th>\n      <th>Kazakhstan</th>\n      <th>Tajikistan</th>\n      <th>Kyrgizstan</th>\n      <th>Turkmenistan</th>\n    </tr>\n  </thead>\n  <tbody>\n    <tr>\n      <th>2020</th>\n      <td>33.5</td>\n      <td>18.8</td>\n      <td>9.5</td>\n      <td>6.5</td>\n      <td>6.0</td>\n    </tr>\n    <tr>\n      <th>2019</th>\n      <td>32.9</td>\n      <td>18.5</td>\n      <td>9.3</td>\n      <td>6.4</td>\n      <td>5.9</td>\n    </tr>\n    <tr>\n      <th>2018</th>\n      <td>32.5</td>\n      <td>18.3</td>\n      <td>9.1</td>\n      <td>6.3</td>\n      <td>5.9</td>\n    </tr>\n    <tr>\n      <th>2017</th>\n      <td>31.9</td>\n      <td>18.1</td>\n      <td>8.9</td>\n      <td>6.2</td>\n      <td>5.8</td>\n    </tr>\n    <tr>\n      <th>2016</th>\n      <td>31.4</td>\n      <td>17.8</td>\n      <td>8.7</td>\n      <td>6.1</td>\n      <td>5.6</td>\n    </tr>\n    <tr>\n      <th>2015</th>\n      <td>30.9</td>\n      <td>17.6</td>\n      <td>8.5</td>\n      <td>6.0</td>\n      <td>5.6</td>\n    </tr>\n  </tbody>\n</table>\n</div>"
     },
     "execution_count": 39,
     "metadata": {},
     "output_type": "execute_result"
    }
   ],
   "source": [
    "df"
   ]
  },
  {
   "cell_type": "code",
   "execution_count": 40,
   "id": "edb60916-922d-4d13-8631-8cfe416fafa1",
   "metadata": {},
   "outputs": [
    {
     "data": {
      "text/plain": "2020    33.5\n2019    32.9\n2018    32.5\n2017    31.9\n2016    31.4\n2015    30.9\nName: Uzbekistan, dtype: float64"
     },
     "execution_count": 40,
     "metadata": {},
     "output_type": "execute_result"
    }
   ],
   "source": [
    "df['Uzbekistan']"
   ]
  },
  {
   "cell_type": "code",
   "execution_count": 41,
   "id": "e8c6d5a2-cd3d-4e22-92b6-80aeee6dd9ae",
   "metadata": {},
   "outputs": [
    {
     "data": {
      "text/plain": "      Uzbekistan\n2020        33.5\n2019        32.9\n2018        32.5\n2017        31.9\n2016        31.4\n2015        30.9",
      "text/html": "<div>\n<style scoped>\n    .dataframe tbody tr th:only-of-type {\n        vertical-align: middle;\n    }\n\n    .dataframe tbody tr th {\n        vertical-align: top;\n    }\n\n    .dataframe thead th {\n        text-align: right;\n    }\n</style>\n<table border=\"1\" class=\"dataframe\">\n  <thead>\n    <tr style=\"text-align: right;\">\n      <th></th>\n      <th>Uzbekistan</th>\n    </tr>\n  </thead>\n  <tbody>\n    <tr>\n      <th>2020</th>\n      <td>33.5</td>\n    </tr>\n    <tr>\n      <th>2019</th>\n      <td>32.9</td>\n    </tr>\n    <tr>\n      <th>2018</th>\n      <td>32.5</td>\n    </tr>\n    <tr>\n      <th>2017</th>\n      <td>31.9</td>\n    </tr>\n    <tr>\n      <th>2016</th>\n      <td>31.4</td>\n    </tr>\n    <tr>\n      <th>2015</th>\n      <td>30.9</td>\n    </tr>\n  </tbody>\n</table>\n</div>"
     },
     "execution_count": 41,
     "metadata": {},
     "output_type": "execute_result"
    }
   ],
   "source": [
    "df[['Uzbekistan']]"
   ]
  },
  {
   "cell_type": "code",
   "execution_count": 42,
   "id": "65c533b1-fda5-4c4b-a505-ba7723d47648",
   "metadata": {},
   "outputs": [
    {
     "data": {
      "text/plain": "      Uzbekistan  Turkmenistan\n2020        33.5           6.0\n2019        32.9           5.9\n2018        32.5           5.9\n2017        31.9           5.8\n2016        31.4           5.6\n2015        30.9           5.6",
      "text/html": "<div>\n<style scoped>\n    .dataframe tbody tr th:only-of-type {\n        vertical-align: middle;\n    }\n\n    .dataframe tbody tr th {\n        vertical-align: top;\n    }\n\n    .dataframe thead th {\n        text-align: right;\n    }\n</style>\n<table border=\"1\" class=\"dataframe\">\n  <thead>\n    <tr style=\"text-align: right;\">\n      <th></th>\n      <th>Uzbekistan</th>\n      <th>Turkmenistan</th>\n    </tr>\n  </thead>\n  <tbody>\n    <tr>\n      <th>2020</th>\n      <td>33.5</td>\n      <td>6.0</td>\n    </tr>\n    <tr>\n      <th>2019</th>\n      <td>32.9</td>\n      <td>5.9</td>\n    </tr>\n    <tr>\n      <th>2018</th>\n      <td>32.5</td>\n      <td>5.9</td>\n    </tr>\n    <tr>\n      <th>2017</th>\n      <td>31.9</td>\n      <td>5.8</td>\n    </tr>\n    <tr>\n      <th>2016</th>\n      <td>31.4</td>\n      <td>5.6</td>\n    </tr>\n    <tr>\n      <th>2015</th>\n      <td>30.9</td>\n      <td>5.6</td>\n    </tr>\n  </tbody>\n</table>\n</div>"
     },
     "execution_count": 42,
     "metadata": {},
     "output_type": "execute_result"
    }
   ],
   "source": [
    "df[['Uzbekistan','Turkmenistan']]"
   ]
  },
  {
   "cell_type": "code",
   "execution_count": 43,
   "id": "75ab66b1-4614-43ea-900a-c0c303e677e1",
   "metadata": {},
   "outputs": [
    {
     "data": {
      "text/plain": "      Uzbekistan  Kazakhstan  Tajikistan  Kyrgizstan  Turkmenistan\n2017        31.9        18.1         8.9         6.2           5.8\n2016        31.4        17.8         8.7         6.1           5.6\n2015        30.9        17.6         8.5         6.0           5.6",
      "text/html": "<div>\n<style scoped>\n    .dataframe tbody tr th:only-of-type {\n        vertical-align: middle;\n    }\n\n    .dataframe tbody tr th {\n        vertical-align: top;\n    }\n\n    .dataframe thead th {\n        text-align: right;\n    }\n</style>\n<table border=\"1\" class=\"dataframe\">\n  <thead>\n    <tr style=\"text-align: right;\">\n      <th></th>\n      <th>Uzbekistan</th>\n      <th>Kazakhstan</th>\n      <th>Tajikistan</th>\n      <th>Kyrgizstan</th>\n      <th>Turkmenistan</th>\n    </tr>\n  </thead>\n  <tbody>\n    <tr>\n      <th>2017</th>\n      <td>31.9</td>\n      <td>18.1</td>\n      <td>8.9</td>\n      <td>6.2</td>\n      <td>5.8</td>\n    </tr>\n    <tr>\n      <th>2016</th>\n      <td>31.4</td>\n      <td>17.8</td>\n      <td>8.7</td>\n      <td>6.1</td>\n      <td>5.6</td>\n    </tr>\n    <tr>\n      <th>2015</th>\n      <td>30.9</td>\n      <td>17.6</td>\n      <td>8.5</td>\n      <td>6.0</td>\n      <td>5.6</td>\n    </tr>\n  </tbody>\n</table>\n</div>"
     },
     "execution_count": 43,
     "metadata": {},
     "output_type": "execute_result"
    }
   ],
   "source": [
    "df[3:]"
   ]
  },
  {
   "cell_type": "code",
   "execution_count": 44,
   "id": "bf32e0c1-2e39-47f7-88b9-aca8091ec5b2",
   "metadata": {},
   "outputs": [
    {
     "data": {
      "text/plain": "      Uzbekistan  Kazakhstan  Tajikistan  Kyrgizstan  Turkmenistan\n2020        True        True        True       False         False\n2019        True        True        True       False         False\n2018        True        True        True       False         False\n2017        True        True        True       False         False\n2016        True        True        True       False         False\n2015        True        True        True       False         False",
      "text/html": "<div>\n<style scoped>\n    .dataframe tbody tr th:only-of-type {\n        vertical-align: middle;\n    }\n\n    .dataframe tbody tr th {\n        vertical-align: top;\n    }\n\n    .dataframe thead th {\n        text-align: right;\n    }\n</style>\n<table border=\"1\" class=\"dataframe\">\n  <thead>\n    <tr style=\"text-align: right;\">\n      <th></th>\n      <th>Uzbekistan</th>\n      <th>Kazakhstan</th>\n      <th>Tajikistan</th>\n      <th>Kyrgizstan</th>\n      <th>Turkmenistan</th>\n    </tr>\n  </thead>\n  <tbody>\n    <tr>\n      <th>2020</th>\n      <td>True</td>\n      <td>True</td>\n      <td>True</td>\n      <td>False</td>\n      <td>False</td>\n    </tr>\n    <tr>\n      <th>2019</th>\n      <td>True</td>\n      <td>True</td>\n      <td>True</td>\n      <td>False</td>\n      <td>False</td>\n    </tr>\n    <tr>\n      <th>2018</th>\n      <td>True</td>\n      <td>True</td>\n      <td>True</td>\n      <td>False</td>\n      <td>False</td>\n    </tr>\n    <tr>\n      <th>2017</th>\n      <td>True</td>\n      <td>True</td>\n      <td>True</td>\n      <td>False</td>\n      <td>False</td>\n    </tr>\n    <tr>\n      <th>2016</th>\n      <td>True</td>\n      <td>True</td>\n      <td>True</td>\n      <td>False</td>\n      <td>False</td>\n    </tr>\n    <tr>\n      <th>2015</th>\n      <td>True</td>\n      <td>True</td>\n      <td>True</td>\n      <td>False</td>\n      <td>False</td>\n    </tr>\n  </tbody>\n</table>\n</div>"
     },
     "execution_count": 44,
     "metadata": {},
     "output_type": "execute_result"
    }
   ],
   "source": [
    "df>8"
   ]
  },
  {
   "cell_type": "code",
   "execution_count": 45,
   "id": "0f8ba476-4da9-41b9-946f-271b5aaa9f6d",
   "metadata": {},
   "outputs": [
    {
     "data": {
      "text/plain": "      Uzbekistan\n2020        33.5\n2019        32.9\n2018        32.5",
      "text/html": "<div>\n<style scoped>\n    .dataframe tbody tr th:only-of-type {\n        vertical-align: middle;\n    }\n\n    .dataframe tbody tr th {\n        vertical-align: top;\n    }\n\n    .dataframe thead th {\n        text-align: right;\n    }\n</style>\n<table border=\"1\" class=\"dataframe\">\n  <thead>\n    <tr style=\"text-align: right;\">\n      <th></th>\n      <th>Uzbekistan</th>\n    </tr>\n  </thead>\n  <tbody>\n    <tr>\n      <th>2020</th>\n      <td>33.5</td>\n    </tr>\n    <tr>\n      <th>2019</th>\n      <td>32.9</td>\n    </tr>\n    <tr>\n      <th>2018</th>\n      <td>32.5</td>\n    </tr>\n  </tbody>\n</table>\n</div>"
     },
     "execution_count": 45,
     "metadata": {},
     "output_type": "execute_result"
    }
   ],
   "source": [
    "df[['Uzbekistan']][df['Uzbekistan']>32]"
   ]
  },
  {
   "cell_type": "code",
   "execution_count": 46,
   "id": "03102d07-fe53-4407-8db4-c88de98af54f",
   "metadata": {},
   "outputs": [],
   "source": [
    "df2=df.transpose(copy=True)"
   ]
  },
  {
   "cell_type": "code",
   "execution_count": 47,
   "id": "6838442f-d1c8-49d2-918e-32d82d040991",
   "metadata": {},
   "outputs": [
    {
     "data": {
      "text/plain": "              2020  2019  2018  2017  2016  2015\nUzbekistan    33.5  32.9  32.5  31.9  31.4  30.9\nKazakhstan    18.8  18.5  18.3  18.1  17.8  17.6\nTajikistan     9.5   9.3   9.1   8.9   8.7   8.5\nKyrgizstan     6.5   6.4   6.3   6.2   6.1   6.0\nTurkmenistan   6.0   5.9   5.9   5.8   5.6   5.6",
      "text/html": "<div>\n<style scoped>\n    .dataframe tbody tr th:only-of-type {\n        vertical-align: middle;\n    }\n\n    .dataframe tbody tr th {\n        vertical-align: top;\n    }\n\n    .dataframe thead th {\n        text-align: right;\n    }\n</style>\n<table border=\"1\" class=\"dataframe\">\n  <thead>\n    <tr style=\"text-align: right;\">\n      <th></th>\n      <th>2020</th>\n      <th>2019</th>\n      <th>2018</th>\n      <th>2017</th>\n      <th>2016</th>\n      <th>2015</th>\n    </tr>\n  </thead>\n  <tbody>\n    <tr>\n      <th>Uzbekistan</th>\n      <td>33.5</td>\n      <td>32.9</td>\n      <td>32.5</td>\n      <td>31.9</td>\n      <td>31.4</td>\n      <td>30.9</td>\n    </tr>\n    <tr>\n      <th>Kazakhstan</th>\n      <td>18.8</td>\n      <td>18.5</td>\n      <td>18.3</td>\n      <td>18.1</td>\n      <td>17.8</td>\n      <td>17.6</td>\n    </tr>\n    <tr>\n      <th>Tajikistan</th>\n      <td>9.5</td>\n      <td>9.3</td>\n      <td>9.1</td>\n      <td>8.9</td>\n      <td>8.7</td>\n      <td>8.5</td>\n    </tr>\n    <tr>\n      <th>Kyrgizstan</th>\n      <td>6.5</td>\n      <td>6.4</td>\n      <td>6.3</td>\n      <td>6.2</td>\n      <td>6.1</td>\n      <td>6.0</td>\n    </tr>\n    <tr>\n      <th>Turkmenistan</th>\n      <td>6.0</td>\n      <td>5.9</td>\n      <td>5.9</td>\n      <td>5.8</td>\n      <td>5.6</td>\n      <td>5.6</td>\n    </tr>\n  </tbody>\n</table>\n</div>"
     },
     "execution_count": 47,
     "metadata": {},
     "output_type": "execute_result"
    }
   ],
   "source": [
    "df2"
   ]
  },
  {
   "cell_type": "code",
   "execution_count": 48,
   "id": "436d2d55-5d31-41dc-9eab-1a2490baeca5",
   "metadata": {},
   "outputs": [
    {
     "data": {
      "text/plain": "            2020  2019  2018  2017  2016  2015\nUzbekistan  33.5  32.9  32.5  31.9  31.4  30.9\nKazakhstan  18.8  18.5  18.3  18.1  17.8  17.6\nTajikistan   9.5   9.3   9.1   8.9   8.7   8.5",
      "text/html": "<div>\n<style scoped>\n    .dataframe tbody tr th:only-of-type {\n        vertical-align: middle;\n    }\n\n    .dataframe tbody tr th {\n        vertical-align: top;\n    }\n\n    .dataframe thead th {\n        text-align: right;\n    }\n</style>\n<table border=\"1\" class=\"dataframe\">\n  <thead>\n    <tr style=\"text-align: right;\">\n      <th></th>\n      <th>2020</th>\n      <th>2019</th>\n      <th>2018</th>\n      <th>2017</th>\n      <th>2016</th>\n      <th>2015</th>\n    </tr>\n  </thead>\n  <tbody>\n    <tr>\n      <th>Uzbekistan</th>\n      <td>33.5</td>\n      <td>32.9</td>\n      <td>32.5</td>\n      <td>31.9</td>\n      <td>31.4</td>\n      <td>30.9</td>\n    </tr>\n    <tr>\n      <th>Kazakhstan</th>\n      <td>18.8</td>\n      <td>18.5</td>\n      <td>18.3</td>\n      <td>18.1</td>\n      <td>17.8</td>\n      <td>17.6</td>\n    </tr>\n    <tr>\n      <th>Tajikistan</th>\n      <td>9.5</td>\n      <td>9.3</td>\n      <td>9.1</td>\n      <td>8.9</td>\n      <td>8.7</td>\n      <td>8.5</td>\n    </tr>\n  </tbody>\n</table>\n</div>"
     },
     "execution_count": 48,
     "metadata": {},
     "output_type": "execute_result"
    }
   ],
   "source": [
    "df2[df2[2015]>6]"
   ]
  },
  {
   "cell_type": "code",
   "execution_count": 49,
   "id": "a15cfad2-7a55-46d6-a8ff-16ff19853ce4",
   "metadata": {},
   "outputs": [
    {
     "data": {
      "text/plain": "              2020  2019  2018  2017  2016  2015\nUzbekistan    33.5  32.9  32.5  31.9  31.4  30.9\nKazakhstan    18.8  18.5  18.3  18.1  17.8  17.6\nTajikistan     9.5   9.3   9.1   8.9   8.7   8.5\nKyrgizstan     6.5   6.4   6.3   6.2   6.1   6.0\nTurkmenistan   6.0   5.9   5.9   5.8   5.6   5.6",
      "text/html": "<div>\n<style scoped>\n    .dataframe tbody tr th:only-of-type {\n        vertical-align: middle;\n    }\n\n    .dataframe tbody tr th {\n        vertical-align: top;\n    }\n\n    .dataframe thead th {\n        text-align: right;\n    }\n</style>\n<table border=\"1\" class=\"dataframe\">\n  <thead>\n    <tr style=\"text-align: right;\">\n      <th></th>\n      <th>2020</th>\n      <th>2019</th>\n      <th>2018</th>\n      <th>2017</th>\n      <th>2016</th>\n      <th>2015</th>\n    </tr>\n  </thead>\n  <tbody>\n    <tr>\n      <th>Uzbekistan</th>\n      <td>33.5</td>\n      <td>32.9</td>\n      <td>32.5</td>\n      <td>31.9</td>\n      <td>31.4</td>\n      <td>30.9</td>\n    </tr>\n    <tr>\n      <th>Kazakhstan</th>\n      <td>18.8</td>\n      <td>18.5</td>\n      <td>18.3</td>\n      <td>18.1</td>\n      <td>17.8</td>\n      <td>17.6</td>\n    </tr>\n    <tr>\n      <th>Tajikistan</th>\n      <td>9.5</td>\n      <td>9.3</td>\n      <td>9.1</td>\n      <td>8.9</td>\n      <td>8.7</td>\n      <td>8.5</td>\n    </tr>\n    <tr>\n      <th>Kyrgizstan</th>\n      <td>6.5</td>\n      <td>6.4</td>\n      <td>6.3</td>\n      <td>6.2</td>\n      <td>6.1</td>\n      <td>6.0</td>\n    </tr>\n    <tr>\n      <th>Turkmenistan</th>\n      <td>6.0</td>\n      <td>5.9</td>\n      <td>5.9</td>\n      <td>5.8</td>\n      <td>5.6</td>\n      <td>5.6</td>\n    </tr>\n  </tbody>\n</table>\n</div>"
     },
     "execution_count": 49,
     "metadata": {},
     "output_type": "execute_result"
    }
   ],
   "source": [
    "df2"
   ]
  },
  {
   "cell_type": "code",
   "execution_count": 50,
   "id": "f1063c5d-be45-4e34-9c5e-40a9555e929d",
   "metadata": {},
   "outputs": [],
   "source": [
    "df2[df2<8] = 0"
   ]
  },
  {
   "cell_type": "code",
   "execution_count": 51,
   "id": "874de0ae-87ff-4cfa-9482-ad55965f9626",
   "metadata": {},
   "outputs": [
    {
     "data": {
      "text/plain": "              2020  2019  2018  2017  2016  2015\nUzbekistan    33.5  32.9  32.5  31.9  31.4  30.9\nKazakhstan    18.8  18.5  18.3  18.1  17.8  17.6\nTajikistan     9.5   9.3   9.1   8.9   8.7   8.5\nKyrgizstan     0.0   0.0   0.0   0.0   0.0   0.0\nTurkmenistan   0.0   0.0   0.0   0.0   0.0   0.0",
      "text/html": "<div>\n<style scoped>\n    .dataframe tbody tr th:only-of-type {\n        vertical-align: middle;\n    }\n\n    .dataframe tbody tr th {\n        vertical-align: top;\n    }\n\n    .dataframe thead th {\n        text-align: right;\n    }\n</style>\n<table border=\"1\" class=\"dataframe\">\n  <thead>\n    <tr style=\"text-align: right;\">\n      <th></th>\n      <th>2020</th>\n      <th>2019</th>\n      <th>2018</th>\n      <th>2017</th>\n      <th>2016</th>\n      <th>2015</th>\n    </tr>\n  </thead>\n  <tbody>\n    <tr>\n      <th>Uzbekistan</th>\n      <td>33.5</td>\n      <td>32.9</td>\n      <td>32.5</td>\n      <td>31.9</td>\n      <td>31.4</td>\n      <td>30.9</td>\n    </tr>\n    <tr>\n      <th>Kazakhstan</th>\n      <td>18.8</td>\n      <td>18.5</td>\n      <td>18.3</td>\n      <td>18.1</td>\n      <td>17.8</td>\n      <td>17.6</td>\n    </tr>\n    <tr>\n      <th>Tajikistan</th>\n      <td>9.5</td>\n      <td>9.3</td>\n      <td>9.1</td>\n      <td>8.9</td>\n      <td>8.7</td>\n      <td>8.5</td>\n    </tr>\n    <tr>\n      <th>Kyrgizstan</th>\n      <td>0.0</td>\n      <td>0.0</td>\n      <td>0.0</td>\n      <td>0.0</td>\n      <td>0.0</td>\n      <td>0.0</td>\n    </tr>\n    <tr>\n      <th>Turkmenistan</th>\n      <td>0.0</td>\n      <td>0.0</td>\n      <td>0.0</td>\n      <td>0.0</td>\n      <td>0.0</td>\n      <td>0.0</td>\n    </tr>\n  </tbody>\n</table>\n</div>"
     },
     "execution_count": 51,
     "metadata": {},
     "output_type": "execute_result"
    }
   ],
   "source": [
    "df2"
   ]
  },
  {
   "cell_type": "code",
   "execution_count": 52,
   "id": "d174b585-1244-404a-81cd-95a8b964612e",
   "metadata": {},
   "outputs": [
    {
     "data": {
      "text/plain": "              2020\nUzbekistan    33.5\nKazakhstan    18.8\nTajikistan     9.5\nKyrgizstan     0.0\nTurkmenistan   0.0",
      "text/html": "<div>\n<style scoped>\n    .dataframe tbody tr th:only-of-type {\n        vertical-align: middle;\n    }\n\n    .dataframe tbody tr th {\n        vertical-align: top;\n    }\n\n    .dataframe thead th {\n        text-align: right;\n    }\n</style>\n<table border=\"1\" class=\"dataframe\">\n  <thead>\n    <tr style=\"text-align: right;\">\n      <th></th>\n      <th>2020</th>\n    </tr>\n  </thead>\n  <tbody>\n    <tr>\n      <th>Uzbekistan</th>\n      <td>33.5</td>\n    </tr>\n    <tr>\n      <th>Kazakhstan</th>\n      <td>18.8</td>\n    </tr>\n    <tr>\n      <th>Tajikistan</th>\n      <td>9.5</td>\n    </tr>\n    <tr>\n      <th>Kyrgizstan</th>\n      <td>0.0</td>\n    </tr>\n    <tr>\n      <th>Turkmenistan</th>\n      <td>0.0</td>\n    </tr>\n  </tbody>\n</table>\n</div>"
     },
     "execution_count": 52,
     "metadata": {},
     "output_type": "execute_result"
    }
   ],
   "source": [
    "df2[[2020]]"
   ]
  },
  {
   "cell_type": "markdown",
   "id": "7b8d0662-3a2e-4a6b-a931-59aca1aefb1c",
   "metadata": {},
   "source": [
    "## `.loc` va `.iloc`\n",
    "`.loc` yordamida qator va ustunlani ularning nomi bo'yicha tanlash mumkin."
   ]
  },
  {
   "cell_type": "code",
   "execution_count": 53,
   "id": "38c7aadf-157a-4f73-a27e-9fa9de38deda",
   "metadata": {},
   "outputs": [
    {
     "data": {
      "text/plain": "      Uzbekistan  Kazakhstan  Tajikistan  Kyrgizstan  Turkmenistan\n2020        33.5        18.8         9.5         6.5           6.0\n2019        32.9        18.5         9.3         6.4           5.9\n2018        32.5        18.3         9.1         6.3           5.9\n2017        31.9        18.1         8.9         6.2           5.8\n2016        31.4        17.8         8.7         6.1           5.6\n2015        30.9        17.6         8.5         6.0           5.6",
      "text/html": "<div>\n<style scoped>\n    .dataframe tbody tr th:only-of-type {\n        vertical-align: middle;\n    }\n\n    .dataframe tbody tr th {\n        vertical-align: top;\n    }\n\n    .dataframe thead th {\n        text-align: right;\n    }\n</style>\n<table border=\"1\" class=\"dataframe\">\n  <thead>\n    <tr style=\"text-align: right;\">\n      <th></th>\n      <th>Uzbekistan</th>\n      <th>Kazakhstan</th>\n      <th>Tajikistan</th>\n      <th>Kyrgizstan</th>\n      <th>Turkmenistan</th>\n    </tr>\n  </thead>\n  <tbody>\n    <tr>\n      <th>2020</th>\n      <td>33.5</td>\n      <td>18.8</td>\n      <td>9.5</td>\n      <td>6.5</td>\n      <td>6.0</td>\n    </tr>\n    <tr>\n      <th>2019</th>\n      <td>32.9</td>\n      <td>18.5</td>\n      <td>9.3</td>\n      <td>6.4</td>\n      <td>5.9</td>\n    </tr>\n    <tr>\n      <th>2018</th>\n      <td>32.5</td>\n      <td>18.3</td>\n      <td>9.1</td>\n      <td>6.3</td>\n      <td>5.9</td>\n    </tr>\n    <tr>\n      <th>2017</th>\n      <td>31.9</td>\n      <td>18.1</td>\n      <td>8.9</td>\n      <td>6.2</td>\n      <td>5.8</td>\n    </tr>\n    <tr>\n      <th>2016</th>\n      <td>31.4</td>\n      <td>17.8</td>\n      <td>8.7</td>\n      <td>6.1</td>\n      <td>5.6</td>\n    </tr>\n    <tr>\n      <th>2015</th>\n      <td>30.9</td>\n      <td>17.6</td>\n      <td>8.5</td>\n      <td>6.0</td>\n      <td>5.6</td>\n    </tr>\n  </tbody>\n</table>\n</div>"
     },
     "execution_count": 53,
     "metadata": {},
     "output_type": "execute_result"
    }
   ],
   "source": [
    "df"
   ]
  },
  {
   "cell_type": "code",
   "execution_count": 54,
   "id": "01e9bf29-5535-4573-80f9-13f8c32e477f",
   "metadata": {},
   "outputs": [
    {
     "data": {
      "text/plain": "      Uzbekistan  Kazakhstan  Tajikistan  Kyrgizstan  Turkmenistan\n2015        30.9        17.6         8.5         6.0           5.6",
      "text/html": "<div>\n<style scoped>\n    .dataframe tbody tr th:only-of-type {\n        vertical-align: middle;\n    }\n\n    .dataframe tbody tr th {\n        vertical-align: top;\n    }\n\n    .dataframe thead th {\n        text-align: right;\n    }\n</style>\n<table border=\"1\" class=\"dataframe\">\n  <thead>\n    <tr style=\"text-align: right;\">\n      <th></th>\n      <th>Uzbekistan</th>\n      <th>Kazakhstan</th>\n      <th>Tajikistan</th>\n      <th>Kyrgizstan</th>\n      <th>Turkmenistan</th>\n    </tr>\n  </thead>\n  <tbody>\n    <tr>\n      <th>2015</th>\n      <td>30.9</td>\n      <td>17.6</td>\n      <td>8.5</td>\n      <td>6.0</td>\n      <td>5.6</td>\n    </tr>\n  </tbody>\n</table>\n</div>"
     },
     "execution_count": 54,
     "metadata": {},
     "output_type": "execute_result"
    }
   ],
   "source": [
    "df.loc[[2015]]"
   ]
  },
  {
   "cell_type": "code",
   "execution_count": 55,
   "id": "4d103a87-f91d-4c1c-b72d-a40c8bff728d",
   "metadata": {},
   "outputs": [
    {
     "data": {
      "text/plain": "      Uzbekistan  Kazakhstan  Tajikistan  Kyrgizstan  Turkmenistan\n2017        31.9        18.1         8.9         6.2           5.8\n2020        33.5        18.8         9.5         6.5           6.0",
      "text/html": "<div>\n<style scoped>\n    .dataframe tbody tr th:only-of-type {\n        vertical-align: middle;\n    }\n\n    .dataframe tbody tr th {\n        vertical-align: top;\n    }\n\n    .dataframe thead th {\n        text-align: right;\n    }\n</style>\n<table border=\"1\" class=\"dataframe\">\n  <thead>\n    <tr style=\"text-align: right;\">\n      <th></th>\n      <th>Uzbekistan</th>\n      <th>Kazakhstan</th>\n      <th>Tajikistan</th>\n      <th>Kyrgizstan</th>\n      <th>Turkmenistan</th>\n    </tr>\n  </thead>\n  <tbody>\n    <tr>\n      <th>2017</th>\n      <td>31.9</td>\n      <td>18.1</td>\n      <td>8.9</td>\n      <td>6.2</td>\n      <td>5.8</td>\n    </tr>\n    <tr>\n      <th>2020</th>\n      <td>33.5</td>\n      <td>18.8</td>\n      <td>9.5</td>\n      <td>6.5</td>\n      <td>6.0</td>\n    </tr>\n  </tbody>\n</table>\n</div>"
     },
     "execution_count": 55,
     "metadata": {},
     "output_type": "execute_result"
    }
   ],
   "source": [
    "df.loc[[2017,2020]]"
   ]
  },
  {
   "cell_type": "code",
   "execution_count": 56,
   "id": "976c26dc-b1f9-435d-a1cf-703a024608dc",
   "metadata": {},
   "outputs": [
    {
     "data": {
      "text/plain": "      Uzbekistan  Kazakhstan\n2020        33.5        18.8\n2019        32.9        18.5",
      "text/html": "<div>\n<style scoped>\n    .dataframe tbody tr th:only-of-type {\n        vertical-align: middle;\n    }\n\n    .dataframe tbody tr th {\n        vertical-align: top;\n    }\n\n    .dataframe thead th {\n        text-align: right;\n    }\n</style>\n<table border=\"1\" class=\"dataframe\">\n  <thead>\n    <tr style=\"text-align: right;\">\n      <th></th>\n      <th>Uzbekistan</th>\n      <th>Kazakhstan</th>\n    </tr>\n  </thead>\n  <tbody>\n    <tr>\n      <th>2020</th>\n      <td>33.5</td>\n      <td>18.8</td>\n    </tr>\n    <tr>\n      <th>2019</th>\n      <td>32.9</td>\n      <td>18.5</td>\n    </tr>\n  </tbody>\n</table>\n</div>"
     },
     "execution_count": 56,
     "metadata": {},
     "output_type": "execute_result"
    }
   ],
   "source": [
    "df.loc[[2020,2019],['Uzbekistan','Kazakhstan']]"
   ]
  },
  {
   "cell_type": "markdown",
   "id": "9727a4bc-e789-4fca-83ab-4e23898f3da5",
   "metadata": {},
   "source": [
    "`.iloc` yordamida qator va ustunlani ularning tartib raqami bo'yicha tanlash mumkin"
   ]
  },
  {
   "cell_type": "code",
   "execution_count": 57,
   "id": "061c7e60-94c2-4ff6-8b30-8565d0833dc8",
   "metadata": {},
   "outputs": [
    {
     "data": {
      "text/plain": "      Uzbekistan  Kazakhstan  Tajikistan  Kyrgizstan  Turkmenistan\n2020        33.5        18.8         9.5         6.5           6.0\n2018        32.5        18.3         9.1         6.3           5.9\n2016        31.4        17.8         8.7         6.1           5.6",
      "text/html": "<div>\n<style scoped>\n    .dataframe tbody tr th:only-of-type {\n        vertical-align: middle;\n    }\n\n    .dataframe tbody tr th {\n        vertical-align: top;\n    }\n\n    .dataframe thead th {\n        text-align: right;\n    }\n</style>\n<table border=\"1\" class=\"dataframe\">\n  <thead>\n    <tr style=\"text-align: right;\">\n      <th></th>\n      <th>Uzbekistan</th>\n      <th>Kazakhstan</th>\n      <th>Tajikistan</th>\n      <th>Kyrgizstan</th>\n      <th>Turkmenistan</th>\n    </tr>\n  </thead>\n  <tbody>\n    <tr>\n      <th>2020</th>\n      <td>33.5</td>\n      <td>18.8</td>\n      <td>9.5</td>\n      <td>6.5</td>\n      <td>6.0</td>\n    </tr>\n    <tr>\n      <th>2018</th>\n      <td>32.5</td>\n      <td>18.3</td>\n      <td>9.1</td>\n      <td>6.3</td>\n      <td>5.9</td>\n    </tr>\n    <tr>\n      <th>2016</th>\n      <td>31.4</td>\n      <td>17.8</td>\n      <td>8.7</td>\n      <td>6.1</td>\n      <td>5.6</td>\n    </tr>\n  </tbody>\n</table>\n</div>"
     },
     "execution_count": 57,
     "metadata": {},
     "output_type": "execute_result"
    }
   ],
   "source": [
    "df.iloc[[0,2,4]]"
   ]
  },
  {
   "cell_type": "code",
   "execution_count": 58,
   "id": "d489ea2e-fc82-4706-98df-5c46de0b3f9c",
   "metadata": {},
   "outputs": [
    {
     "data": {
      "text/plain": "      Uzbekistan  Kyrgizstan  Turkmenistan\n2020        33.5         6.5           6.0",
      "text/html": "<div>\n<style scoped>\n    .dataframe tbody tr th:only-of-type {\n        vertical-align: middle;\n    }\n\n    .dataframe tbody tr th {\n        vertical-align: top;\n    }\n\n    .dataframe thead th {\n        text-align: right;\n    }\n</style>\n<table border=\"1\" class=\"dataframe\">\n  <thead>\n    <tr style=\"text-align: right;\">\n      <th></th>\n      <th>Uzbekistan</th>\n      <th>Kyrgizstan</th>\n      <th>Turkmenistan</th>\n    </tr>\n  </thead>\n  <tbody>\n    <tr>\n      <th>2020</th>\n      <td>33.5</td>\n      <td>6.5</td>\n      <td>6.0</td>\n    </tr>\n  </tbody>\n</table>\n</div>"
     },
     "execution_count": 58,
     "metadata": {},
     "output_type": "execute_result"
    }
   ],
   "source": [
    "df.iloc[[0],[0,3,4]]"
   ]
  },
  {
   "cell_type": "code",
   "execution_count": 59,
   "id": "10a20779-2c21-4029-8d23-bc269be3fb71",
   "metadata": {},
   "outputs": [
    {
     "data": {
      "text/plain": "2020    33.5\n2019    32.9\n2018    32.5\n2017    31.9\nName: Uzbekistan, dtype: float64"
     },
     "execution_count": 59,
     "metadata": {},
     "output_type": "execute_result"
    }
   ],
   "source": [
    "df.loc[:2017,'Uzbekistan']"
   ]
  },
  {
   "cell_type": "markdown",
   "id": "dac25405-dd9b-4339-8d1d-75166e7e529a",
   "metadata": {},
   "source": [
    "## Sonli indekslar\n",
    "\n",
    "`pandas` obyektlariga indeks orqali murojaat qilish biroz mujmal tuyulishi mumkin. Bunga sabab biz o'rganib qolgan list va tuple ma'lumot turlari bilan ishlashdagi farq."
   ]
  },
  {
   "cell_type": "markdown",
   "id": "a363bcb1-962e-4f32-a9ec-57f60d305acf",
   "metadata": {},
   "source": [
    "Misol uchun, Pythonda ro'yxatning oxirgi elementini ko'rish uchun -1 indeksi orqali murojaat qilishimiz mumkin:"
   ]
  },
  {
   "cell_type": "code",
   "execution_count": 60,
   "id": "0e856814-14f8-4319-b0e1-638451c032d7",
   "metadata": {},
   "outputs": [
    {
     "data": {
      "text/plain": "[0, 1, 2, 3, 4, 5, 6, 7, 8, 9, 10]"
     },
     "execution_count": 60,
     "metadata": {},
     "output_type": "execute_result"
    }
   ],
   "source": [
    "nums = list(range(0,11))\n",
    "nums"
   ]
  },
  {
   "cell_type": "code",
   "execution_count": 61,
   "id": "103dccf9-2f5e-42d5-a642-d210d539fb85",
   "metadata": {},
   "outputs": [
    {
     "data": {
      "text/plain": "10"
     },
     "execution_count": 61,
     "metadata": {},
     "output_type": "execute_result"
    }
   ],
   "source": [
    "nums[-1] # nums oxirgi elementi"
   ]
  },
  {
   "cell_type": "markdown",
   "id": "e16e9620-ef79-4ecf-88da-2a65a5cef3ab",
   "metadata": {},
   "source": [
    "Yuqoridagi usulni sonli indeksga ega `Series` ma'lumot tuzilmasiga qo'llab ko'ramiz:"
   ]
  },
  {
   "cell_type": "code",
   "execution_count": 62,
   "id": "35d2e6d1-76f6-49a0-96f4-d7de87ff9fbd",
   "metadata": {},
   "outputs": [
    {
     "data": {
      "text/plain": "0    0.0\n1    1.0\n2    2.0\n3    3.0\n4    4.0\n5    5.0\n6    6.0\n7    7.0\n8    8.0\n9    9.0\ndtype: float64"
     },
     "execution_count": 62,
     "metadata": {},
     "output_type": "execute_result"
    }
   ],
   "source": [
    "nums = pd.Series(np.arange(10.))\n",
    "nums"
   ]
  },
  {
   "cell_type": "code",
   "execution_count": 63,
   "id": "a8b249af-21fd-4ee0-bc75-d42106e3a61d",
   "metadata": {},
   "outputs": [
    {
     "ename": "KeyError",
     "evalue": "-1",
     "output_type": "error",
     "traceback": [
      "\u001B[0;31m---------------------------------------------------------------------------\u001B[0m",
      "\u001B[0;31mValueError\u001B[0m                                Traceback (most recent call last)",
      "File \u001B[0;32m~/miniconda3/envs/ds/lib/python3.8/site-packages/pandas/core/indexes/range.py:385\u001B[0m, in \u001B[0;36mRangeIndex.get_loc\u001B[0;34m(self, key, method, tolerance)\u001B[0m\n\u001B[1;32m    384\u001B[0m \u001B[38;5;28;01mtry\u001B[39;00m:\n\u001B[0;32m--> 385\u001B[0m     \u001B[38;5;28;01mreturn\u001B[39;00m \u001B[38;5;28;43mself\u001B[39;49m\u001B[38;5;241;43m.\u001B[39;49m\u001B[43m_range\u001B[49m\u001B[38;5;241;43m.\u001B[39;49m\u001B[43mindex\u001B[49m\u001B[43m(\u001B[49m\u001B[43mnew_key\u001B[49m\u001B[43m)\u001B[49m\n\u001B[1;32m    386\u001B[0m \u001B[38;5;28;01mexcept\u001B[39;00m \u001B[38;5;167;01mValueError\u001B[39;00m \u001B[38;5;28;01mas\u001B[39;00m err:\n",
      "\u001B[0;31mValueError\u001B[0m: -1 is not in range",
      "\nThe above exception was the direct cause of the following exception:\n",
      "\u001B[0;31mKeyError\u001B[0m                                  Traceback (most recent call last)",
      "Input \u001B[0;32mIn [63]\u001B[0m, in \u001B[0;36m<module>\u001B[0;34m\u001B[0m\n\u001B[0;32m----> 1\u001B[0m \u001B[43mnums\u001B[49m\u001B[43m[\u001B[49m\u001B[38;5;241;43m-\u001B[39;49m\u001B[38;5;241;43m1\u001B[39;49m\u001B[43m]\u001B[49m\n",
      "File \u001B[0;32m~/miniconda3/envs/ds/lib/python3.8/site-packages/pandas/core/series.py:942\u001B[0m, in \u001B[0;36mSeries.__getitem__\u001B[0;34m(self, key)\u001B[0m\n\u001B[1;32m    939\u001B[0m     \u001B[38;5;28;01mreturn\u001B[39;00m \u001B[38;5;28mself\u001B[39m\u001B[38;5;241m.\u001B[39m_values[key]\n\u001B[1;32m    941\u001B[0m \u001B[38;5;28;01melif\u001B[39;00m key_is_scalar:\n\u001B[0;32m--> 942\u001B[0m     \u001B[38;5;28;01mreturn\u001B[39;00m \u001B[38;5;28;43mself\u001B[39;49m\u001B[38;5;241;43m.\u001B[39;49m\u001B[43m_get_value\u001B[49m\u001B[43m(\u001B[49m\u001B[43mkey\u001B[49m\u001B[43m)\u001B[49m\n\u001B[1;32m    944\u001B[0m \u001B[38;5;28;01mif\u001B[39;00m is_hashable(key):\n\u001B[1;32m    945\u001B[0m     \u001B[38;5;66;03m# Otherwise index.get_value will raise InvalidIndexError\u001B[39;00m\n\u001B[1;32m    946\u001B[0m     \u001B[38;5;28;01mtry\u001B[39;00m:\n\u001B[1;32m    947\u001B[0m         \u001B[38;5;66;03m# For labels that don't resolve as scalars like tuples and frozensets\u001B[39;00m\n",
      "File \u001B[0;32m~/miniconda3/envs/ds/lib/python3.8/site-packages/pandas/core/series.py:1051\u001B[0m, in \u001B[0;36mSeries._get_value\u001B[0;34m(self, label, takeable)\u001B[0m\n\u001B[1;32m   1048\u001B[0m     \u001B[38;5;28;01mreturn\u001B[39;00m \u001B[38;5;28mself\u001B[39m\u001B[38;5;241m.\u001B[39m_values[label]\n\u001B[1;32m   1050\u001B[0m \u001B[38;5;66;03m# Similar to Index.get_value, but we do not fall back to positional\u001B[39;00m\n\u001B[0;32m-> 1051\u001B[0m loc \u001B[38;5;241m=\u001B[39m \u001B[38;5;28;43mself\u001B[39;49m\u001B[38;5;241;43m.\u001B[39;49m\u001B[43mindex\u001B[49m\u001B[38;5;241;43m.\u001B[39;49m\u001B[43mget_loc\u001B[49m\u001B[43m(\u001B[49m\u001B[43mlabel\u001B[49m\u001B[43m)\u001B[49m\n\u001B[1;32m   1052\u001B[0m \u001B[38;5;28;01mreturn\u001B[39;00m \u001B[38;5;28mself\u001B[39m\u001B[38;5;241m.\u001B[39mindex\u001B[38;5;241m.\u001B[39m_get_values_for_loc(\u001B[38;5;28mself\u001B[39m, loc, label)\n",
      "File \u001B[0;32m~/miniconda3/envs/ds/lib/python3.8/site-packages/pandas/core/indexes/range.py:387\u001B[0m, in \u001B[0;36mRangeIndex.get_loc\u001B[0;34m(self, key, method, tolerance)\u001B[0m\n\u001B[1;32m    385\u001B[0m             \u001B[38;5;28;01mreturn\u001B[39;00m \u001B[38;5;28mself\u001B[39m\u001B[38;5;241m.\u001B[39m_range\u001B[38;5;241m.\u001B[39mindex(new_key)\n\u001B[1;32m    386\u001B[0m         \u001B[38;5;28;01mexcept\u001B[39;00m \u001B[38;5;167;01mValueError\u001B[39;00m \u001B[38;5;28;01mas\u001B[39;00m err:\n\u001B[0;32m--> 387\u001B[0m             \u001B[38;5;28;01mraise\u001B[39;00m \u001B[38;5;167;01mKeyError\u001B[39;00m(key) \u001B[38;5;28;01mfrom\u001B[39;00m \u001B[38;5;21;01merr\u001B[39;00m\n\u001B[1;32m    388\u001B[0m     \u001B[38;5;28;01mraise\u001B[39;00m \u001B[38;5;167;01mKeyError\u001B[39;00m(key)\n\u001B[1;32m    389\u001B[0m \u001B[38;5;28;01mreturn\u001B[39;00m \u001B[38;5;28msuper\u001B[39m()\u001B[38;5;241m.\u001B[39mget_loc(key, method\u001B[38;5;241m=\u001B[39mmethod, tolerance\u001B[38;5;241m=\u001B[39mtolerance)\n",
      "\u001B[0;31mKeyError\u001B[0m: -1"
     ]
    }
   ],
   "source": [
    "nums[-1]"
   ]
  },
  {
   "cell_type": "markdown",
   "id": "6e0f2ef9-b7f3-40cc-bb44-2b2e29103104",
   "metadata": {},
   "source": [
    "Ko'rib turganingizdek bu usul raqamli indekslar bilan ishlamas ekan. Agar indesklar raqamli emas, matn bo'lsachi?"
   ]
  },
  {
   "cell_type": "code",
   "execution_count": null,
   "id": "0dd9be01-407a-4376-9b97-05af056ee0ce",
   "metadata": {},
   "outputs": [],
   "source": [
    "ser = pd.Series(np.arange(5.), index=['a', 'b', 'c', 'd', 'e'])\n",
    "ser"
   ]
  },
  {
   "cell_type": "code",
   "execution_count": null,
   "id": "7629f258-85cf-4bf4-87bd-4112df6cc28a",
   "metadata": {},
   "outputs": [],
   "source": [
    "ser[-1]"
   ]
  },
  {
   "cell_type": "markdown",
   "id": "9caf6e62-3d97-4387-b9a6-de615ae699be",
   "metadata": {},
   "source": [
    "Bu holda esa xato yo'q. "
   ]
  },
  {
   "cell_type": "markdown",
   "id": "9b7ce1c0-4823-4de1-92a5-9ba59f4bea3f",
   "metadata": {},
   "source": [
    "Muammoning yechimi doimo `.loc` yoki `.iloc` parametrlaridan foydalanish"
   ]
  },
  {
   "cell_type": "code",
   "execution_count": null,
   "id": "91298d98-cda6-4fa4-8ec3-2fcc7ee50fc9",
   "metadata": {},
   "outputs": [],
   "source": [
    "nums.iloc[-1]"
   ]
  },
  {
   "cell_type": "code",
   "execution_count": null,
   "id": "4ee90d84-11df-4a81-89f5-2ea2ef626ad5",
   "metadata": {},
   "outputs": [],
   "source": [
    "nums.iloc[4]"
   ]
  },
  {
   "cell_type": "code",
   "execution_count": null,
   "id": "596ffc78-0d9e-4ede-8caf-45822ecc934a",
   "metadata": {},
   "outputs": [],
   "source": [
    "ser.loc['d']"
   ]
  }
 ],
 "metadata": {
  "language_info": {
   "codemirror_mode": {
    "name": "ipython",
    "version": 3
   },
   "file_extension": ".py",
   "mimetype": "text/x-python",
   "name": "python",
   "nbconvert_exporter": "python",
   "pygments_lexer": "ipython3",
   "version": "3.8.8"
  }
 },
 "nbformat": 4,
 "nbformat_minor": 5
}