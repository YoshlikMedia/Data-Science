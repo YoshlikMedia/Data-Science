{
 "cells": [
  {
   "cell_type": "code",
   "execution_count": 3,
   "metadata": {
    "collapsed": true
   },
   "outputs": [],
   "source": [
    "import pandas as pd\n",
    "from pandas import DataFrame"
   ]
  },
  {
   "cell_type": "code",
   "execution_count": 4,
   "outputs": [],
   "source": [
    "data = {'Yil':[2021, 2020, 2019, 2018, 2017, 2016, 2015, 2010],\n",
    "       'Aholi soni':[33.9, 33.5, 32.9, 32.5, 31.9, 31.4, 30.9, 28.5],\n",
    "       \"Temp\":[1.54, 1.48, 1.56, 1.62, 1.65, 1.66, 1.64, 1.53]}\n",
    "df = DataFrame(data)"
   ],
   "metadata": {
    "collapsed": false,
    "pycharm": {
     "name": "#%%\n"
    }
   }
  },
  {
   "cell_type": "code",
   "execution_count": 5,
   "outputs": [
    {
     "data": {
      "text/plain": "    Yil  Aholi soni  Temp\n0  2021        33.9  1.54\n1  2020        33.5  1.48\n2  2019        32.9  1.56\n3  2018        32.5  1.62\n4  2017        31.9  1.65\n5  2016        31.4  1.66\n6  2015        30.9  1.64\n7  2010        28.5  1.53",
      "text/html": "<div>\n<style scoped>\n    .dataframe tbody tr th:only-of-type {\n        vertical-align: middle;\n    }\n\n    .dataframe tbody tr th {\n        vertical-align: top;\n    }\n\n    .dataframe thead th {\n        text-align: right;\n    }\n</style>\n<table border=\"1\" class=\"dataframe\">\n  <thead>\n    <tr style=\"text-align: right;\">\n      <th></th>\n      <th>Yil</th>\n      <th>Aholi soni</th>\n      <th>Temp</th>\n    </tr>\n  </thead>\n  <tbody>\n    <tr>\n      <th>0</th>\n      <td>2021</td>\n      <td>33.9</td>\n      <td>1.54</td>\n    </tr>\n    <tr>\n      <th>1</th>\n      <td>2020</td>\n      <td>33.5</td>\n      <td>1.48</td>\n    </tr>\n    <tr>\n      <th>2</th>\n      <td>2019</td>\n      <td>32.9</td>\n      <td>1.56</td>\n    </tr>\n    <tr>\n      <th>3</th>\n      <td>2018</td>\n      <td>32.5</td>\n      <td>1.62</td>\n    </tr>\n    <tr>\n      <th>4</th>\n      <td>2017</td>\n      <td>31.9</td>\n      <td>1.65</td>\n    </tr>\n    <tr>\n      <th>5</th>\n      <td>2016</td>\n      <td>31.4</td>\n      <td>1.66</td>\n    </tr>\n    <tr>\n      <th>6</th>\n      <td>2015</td>\n      <td>30.9</td>\n      <td>1.64</td>\n    </tr>\n    <tr>\n      <th>7</th>\n      <td>2010</td>\n      <td>28.5</td>\n      <td>1.53</td>\n    </tr>\n  </tbody>\n</table>\n</div>"
     },
     "execution_count": 5,
     "metadata": {},
     "output_type": "execute_result"
    }
   ],
   "source": [
    "df"
   ],
   "metadata": {
    "collapsed": false,
    "pycharm": {
     "name": "#%%\n"
    }
   }
  },
  {
   "cell_type": "code",
   "execution_count": 6,
   "outputs": [],
   "source": [
    "new_index = [10, 29, 25, 28, 45, 50, 55, 60]"
   ],
   "metadata": {
    "collapsed": false,
    "pycharm": {
     "name": "#%%\n"
    }
   }
  },
  {
   "cell_type": "code",
   "execution_count": 8,
   "outputs": [],
   "source": [
    "df.index = new_index"
   ],
   "metadata": {
    "collapsed": false,
    "pycharm": {
     "name": "#%%\n"
    }
   }
  },
  {
   "cell_type": "code",
   "execution_count": 9,
   "outputs": [
    {
     "data": {
      "text/plain": "     Yil  Aholi soni  Temp\n10  2021        33.9  1.54\n29  2020        33.5  1.48\n25  2019        32.9  1.56\n28  2018        32.5  1.62\n45  2017        31.9  1.65\n50  2016        31.4  1.66\n55  2015        30.9  1.64\n60  2010        28.5  1.53",
      "text/html": "<div>\n<style scoped>\n    .dataframe tbody tr th:only-of-type {\n        vertical-align: middle;\n    }\n\n    .dataframe tbody tr th {\n        vertical-align: top;\n    }\n\n    .dataframe thead th {\n        text-align: right;\n    }\n</style>\n<table border=\"1\" class=\"dataframe\">\n  <thead>\n    <tr style=\"text-align: right;\">\n      <th></th>\n      <th>Yil</th>\n      <th>Aholi soni</th>\n      <th>Temp</th>\n    </tr>\n  </thead>\n  <tbody>\n    <tr>\n      <th>10</th>\n      <td>2021</td>\n      <td>33.9</td>\n      <td>1.54</td>\n    </tr>\n    <tr>\n      <th>29</th>\n      <td>2020</td>\n      <td>33.5</td>\n      <td>1.48</td>\n    </tr>\n    <tr>\n      <th>25</th>\n      <td>2019</td>\n      <td>32.9</td>\n      <td>1.56</td>\n    </tr>\n    <tr>\n      <th>28</th>\n      <td>2018</td>\n      <td>32.5</td>\n      <td>1.62</td>\n    </tr>\n    <tr>\n      <th>45</th>\n      <td>2017</td>\n      <td>31.9</td>\n      <td>1.65</td>\n    </tr>\n    <tr>\n      <th>50</th>\n      <td>2016</td>\n      <td>31.4</td>\n      <td>1.66</td>\n    </tr>\n    <tr>\n      <th>55</th>\n      <td>2015</td>\n      <td>30.9</td>\n      <td>1.64</td>\n    </tr>\n    <tr>\n      <th>60</th>\n      <td>2010</td>\n      <td>28.5</td>\n      <td>1.53</td>\n    </tr>\n  </tbody>\n</table>\n</div>"
     },
     "execution_count": 9,
     "metadata": {},
     "output_type": "execute_result"
    }
   ],
   "source": [
    "df"
   ],
   "metadata": {
    "collapsed": false,
    "pycharm": {
     "name": "#%%\n"
    }
   }
  },
  {
   "cell_type": "code",
   "execution_count": 10,
   "outputs": [],
   "source": [
    "df = df.reindex(new_index)"
   ],
   "metadata": {
    "collapsed": false,
    "pycharm": {
     "name": "#%%\n"
    }
   }
  },
  {
   "cell_type": "code",
   "execution_count": 11,
   "outputs": [
    {
     "data": {
      "text/plain": "     Yil  Aholi soni  Temp\n10  2021        33.9  1.54\n29  2020        33.5  1.48\n25  2019        32.9  1.56\n28  2018        32.5  1.62\n45  2017        31.9  1.65\n50  2016        31.4  1.66\n55  2015        30.9  1.64\n60  2010        28.5  1.53",
      "text/html": "<div>\n<style scoped>\n    .dataframe tbody tr th:only-of-type {\n        vertical-align: middle;\n    }\n\n    .dataframe tbody tr th {\n        vertical-align: top;\n    }\n\n    .dataframe thead th {\n        text-align: right;\n    }\n</style>\n<table border=\"1\" class=\"dataframe\">\n  <thead>\n    <tr style=\"text-align: right;\">\n      <th></th>\n      <th>Yil</th>\n      <th>Aholi soni</th>\n      <th>Temp</th>\n    </tr>\n  </thead>\n  <tbody>\n    <tr>\n      <th>10</th>\n      <td>2021</td>\n      <td>33.9</td>\n      <td>1.54</td>\n    </tr>\n    <tr>\n      <th>29</th>\n      <td>2020</td>\n      <td>33.5</td>\n      <td>1.48</td>\n    </tr>\n    <tr>\n      <th>25</th>\n      <td>2019</td>\n      <td>32.9</td>\n      <td>1.56</td>\n    </tr>\n    <tr>\n      <th>28</th>\n      <td>2018</td>\n      <td>32.5</td>\n      <td>1.62</td>\n    </tr>\n    <tr>\n      <th>45</th>\n      <td>2017</td>\n      <td>31.9</td>\n      <td>1.65</td>\n    </tr>\n    <tr>\n      <th>50</th>\n      <td>2016</td>\n      <td>31.4</td>\n      <td>1.66</td>\n    </tr>\n    <tr>\n      <th>55</th>\n      <td>2015</td>\n      <td>30.9</td>\n      <td>1.64</td>\n    </tr>\n    <tr>\n      <th>60</th>\n      <td>2010</td>\n      <td>28.5</td>\n      <td>1.53</td>\n    </tr>\n  </tbody>\n</table>\n</div>"
     },
     "execution_count": 11,
     "metadata": {},
     "output_type": "execute_result"
    }
   ],
   "source": [
    "df"
   ],
   "metadata": {
    "collapsed": false,
    "pycharm": {
     "name": "#%%\n"
    }
   }
  },
  {
   "cell_type": "code",
   "execution_count": 13,
   "outputs": [
    {
     "data": {
      "text/plain": "     Yil  Aholi soni  Temp\n10  2021        33.9  1.54\n25  2019        32.9  1.56\n45  2017        31.9  1.65",
      "text/html": "<div>\n<style scoped>\n    .dataframe tbody tr th:only-of-type {\n        vertical-align: middle;\n    }\n\n    .dataframe tbody tr th {\n        vertical-align: top;\n    }\n\n    .dataframe thead th {\n        text-align: right;\n    }\n</style>\n<table border=\"1\" class=\"dataframe\">\n  <thead>\n    <tr style=\"text-align: right;\">\n      <th></th>\n      <th>Yil</th>\n      <th>Aholi soni</th>\n      <th>Temp</th>\n    </tr>\n  </thead>\n  <tbody>\n    <tr>\n      <th>10</th>\n      <td>2021</td>\n      <td>33.9</td>\n      <td>1.54</td>\n    </tr>\n    <tr>\n      <th>25</th>\n      <td>2019</td>\n      <td>32.9</td>\n      <td>1.56</td>\n    </tr>\n    <tr>\n      <th>45</th>\n      <td>2017</td>\n      <td>31.9</td>\n      <td>1.65</td>\n    </tr>\n  </tbody>\n</table>\n</div>"
     },
     "execution_count": 13,
     "metadata": {},
     "output_type": "execute_result"
    }
   ],
   "source": [
    "df.reindex([10, 25, 45])"
   ],
   "metadata": {
    "collapsed": false,
    "pycharm": {
     "name": "#%%\n"
    }
   }
  },
  {
   "cell_type": "code",
   "execution_count": 16,
   "outputs": [
    {
     "data": {
      "text/plain": "     Yil  Aholi soni  Temp\n55  2015        30.9  1.64",
      "text/html": "<div>\n<style scoped>\n    .dataframe tbody tr th:only-of-type {\n        vertical-align: middle;\n    }\n\n    .dataframe tbody tr th {\n        vertical-align: top;\n    }\n\n    .dataframe thead th {\n        text-align: right;\n    }\n</style>\n<table border=\"1\" class=\"dataframe\">\n  <thead>\n    <tr style=\"text-align: right;\">\n      <th></th>\n      <th>Yil</th>\n      <th>Aholi soni</th>\n      <th>Temp</th>\n    </tr>\n  </thead>\n  <tbody>\n    <tr>\n      <th>55</th>\n      <td>2015</td>\n      <td>30.9</td>\n      <td>1.64</td>\n    </tr>\n  </tbody>\n</table>\n</div>"
     },
     "execution_count": 16,
     "metadata": {},
     "output_type": "execute_result"
    }
   ],
   "source": [
    "df.sample()"
   ],
   "metadata": {
    "collapsed": false,
    "pycharm": {
     "name": "#%%\n"
    }
   }
  },
  {
   "cell_type": "code",
   "execution_count": 17,
   "outputs": [
    {
     "data": {
      "text/plain": "     Yil  Aholi soni  Temp\n10  2021        33.9  1.54\n29  2020        33.5  1.48\n25  2019        32.9  1.56\n28  2018        32.5  1.62\n45  2017        31.9  1.65\n50  2016        31.4  1.66\n55  2015        30.9  1.64\n60  2010        28.5  1.53",
      "text/html": "<div>\n<style scoped>\n    .dataframe tbody tr th:only-of-type {\n        vertical-align: middle;\n    }\n\n    .dataframe tbody tr th {\n        vertical-align: top;\n    }\n\n    .dataframe thead th {\n        text-align: right;\n    }\n</style>\n<table border=\"1\" class=\"dataframe\">\n  <thead>\n    <tr style=\"text-align: right;\">\n      <th></th>\n      <th>Yil</th>\n      <th>Aholi soni</th>\n      <th>Temp</th>\n    </tr>\n  </thead>\n  <tbody>\n    <tr>\n      <th>10</th>\n      <td>2021</td>\n      <td>33.9</td>\n      <td>1.54</td>\n    </tr>\n    <tr>\n      <th>29</th>\n      <td>2020</td>\n      <td>33.5</td>\n      <td>1.48</td>\n    </tr>\n    <tr>\n      <th>25</th>\n      <td>2019</td>\n      <td>32.9</td>\n      <td>1.56</td>\n    </tr>\n    <tr>\n      <th>28</th>\n      <td>2018</td>\n      <td>32.5</td>\n      <td>1.62</td>\n    </tr>\n    <tr>\n      <th>45</th>\n      <td>2017</td>\n      <td>31.9</td>\n      <td>1.65</td>\n    </tr>\n    <tr>\n      <th>50</th>\n      <td>2016</td>\n      <td>31.4</td>\n      <td>1.66</td>\n    </tr>\n    <tr>\n      <th>55</th>\n      <td>2015</td>\n      <td>30.9</td>\n      <td>1.64</td>\n    </tr>\n    <tr>\n      <th>60</th>\n      <td>2010</td>\n      <td>28.5</td>\n      <td>1.53</td>\n    </tr>\n  </tbody>\n</table>\n</div>"
     },
     "execution_count": 17,
     "metadata": {},
     "output_type": "execute_result"
    }
   ],
   "source": [
    "df"
   ],
   "metadata": {
    "collapsed": false,
    "pycharm": {
     "name": "#%%\n"
    }
   }
  },
  {
   "cell_type": "code",
   "execution_count": 18,
   "outputs": [
    {
     "data": {
      "text/plain": "    Aholi soni  Temp\n10        33.9  1.54\n25        32.9  1.56\n45        31.9  1.65",
      "text/html": "<div>\n<style scoped>\n    .dataframe tbody tr th:only-of-type {\n        vertical-align: middle;\n    }\n\n    .dataframe tbody tr th {\n        vertical-align: top;\n    }\n\n    .dataframe thead th {\n        text-align: right;\n    }\n</style>\n<table border=\"1\" class=\"dataframe\">\n  <thead>\n    <tr style=\"text-align: right;\">\n      <th></th>\n      <th>Aholi soni</th>\n      <th>Temp</th>\n    </tr>\n  </thead>\n  <tbody>\n    <tr>\n      <th>10</th>\n      <td>33.9</td>\n      <td>1.54</td>\n    </tr>\n    <tr>\n      <th>25</th>\n      <td>32.9</td>\n      <td>1.56</td>\n    </tr>\n    <tr>\n      <th>45</th>\n      <td>31.9</td>\n      <td>1.65</td>\n    </tr>\n  </tbody>\n</table>\n</div>"
     },
     "execution_count": 18,
     "metadata": {},
     "output_type": "execute_result"
    }
   ],
   "source": [
    "df.loc[[10, 25, 45],['Aholi soni', 'Temp']]"
   ],
   "metadata": {
    "collapsed": false,
    "pycharm": {
     "name": "#%%\n"
    }
   }
  },
  {
   "cell_type": "code",
   "execution_count": 19,
   "outputs": [
    {
     "data": {
      "text/plain": "Aholi soni    32.900000\nTemp           1.583333\ndtype: float64"
     },
     "execution_count": 19,
     "metadata": {},
     "output_type": "execute_result"
    }
   ],
   "source": [
    "df.loc[[10, 25, 45],['Aholi soni', 'Temp']].mean()"
   ],
   "metadata": {
    "collapsed": false,
    "pycharm": {
     "name": "#%%\n"
    }
   }
  },
  {
   "cell_type": "code",
   "execution_count": 20,
   "outputs": [
    {
     "data": {
      "text/plain": "     Yil  Aholi soni  Temp\n10  2021        33.9  1.54\n29  2020        33.5  1.48\n25  2019        32.9  1.56\n28  2018        32.5  1.62\n45  2017        31.9  1.65\n50  2016        31.4  1.66\n55  2015        30.9  1.64\n60  2010        28.5  1.53",
      "text/html": "<div>\n<style scoped>\n    .dataframe tbody tr th:only-of-type {\n        vertical-align: middle;\n    }\n\n    .dataframe tbody tr th {\n        vertical-align: top;\n    }\n\n    .dataframe thead th {\n        text-align: right;\n    }\n</style>\n<table border=\"1\" class=\"dataframe\">\n  <thead>\n    <tr style=\"text-align: right;\">\n      <th></th>\n      <th>Yil</th>\n      <th>Aholi soni</th>\n      <th>Temp</th>\n    </tr>\n  </thead>\n  <tbody>\n    <tr>\n      <th>10</th>\n      <td>2021</td>\n      <td>33.9</td>\n      <td>1.54</td>\n    </tr>\n    <tr>\n      <th>29</th>\n      <td>2020</td>\n      <td>33.5</td>\n      <td>1.48</td>\n    </tr>\n    <tr>\n      <th>25</th>\n      <td>2019</td>\n      <td>32.9</td>\n      <td>1.56</td>\n    </tr>\n    <tr>\n      <th>28</th>\n      <td>2018</td>\n      <td>32.5</td>\n      <td>1.62</td>\n    </tr>\n    <tr>\n      <th>45</th>\n      <td>2017</td>\n      <td>31.9</td>\n      <td>1.65</td>\n    </tr>\n    <tr>\n      <th>50</th>\n      <td>2016</td>\n      <td>31.4</td>\n      <td>1.66</td>\n    </tr>\n    <tr>\n      <th>55</th>\n      <td>2015</td>\n      <td>30.9</td>\n      <td>1.64</td>\n    </tr>\n    <tr>\n      <th>60</th>\n      <td>2010</td>\n      <td>28.5</td>\n      <td>1.53</td>\n    </tr>\n  </tbody>\n</table>\n</div>"
     },
     "execution_count": 20,
     "metadata": {},
     "output_type": "execute_result"
    }
   ],
   "source": [
    "df"
   ],
   "metadata": {
    "collapsed": false,
    "pycharm": {
     "name": "#%%\n"
    }
   }
  },
  {
   "cell_type": "code",
   "execution_count": null,
   "outputs": [],
   "source": [],
   "metadata": {
    "collapsed": false,
    "pycharm": {
     "name": "#%%\n"
    }
   }
  }
 ],
 "metadata": {
  "kernelspec": {
   "display_name": "Python 3",
   "language": "python",
   "name": "python3"
  },
  "language_info": {
   "codemirror_mode": {
    "name": "ipython",
    "version": 2
   },
   "file_extension": ".py",
   "mimetype": "text/x-python",
   "name": "python",
   "nbconvert_exporter": "python",
   "pygments_lexer": "ipython2",
   "version": "2.7.6"
  }
 },
 "nbformat": 4,
 "nbformat_minor": 0
}